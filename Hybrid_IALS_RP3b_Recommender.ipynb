{
 "cells": [
  {
   "cell_type": "code",
   "execution_count": 1,
   "metadata": {},
   "outputs": [],
   "source": [
    "#import libraries\n",
    "\n",
    "import scipy.sparse as sps\n",
    "import numpy as np\n",
    "import os\n",
    "import pandas as pd \n",
    "\n",
    "URM_all= sps.load_npz(\"./Processed Matrices/URM_simple_coo_2020.npz\").tocsr()\n",
    "ICM_all= sps.load_npz(\"./Processed Matrices/ICM_simple_coo_2020.npz\").tocsr()"
   ]
  },
  {
   "cell_type": "code",
   "execution_count": 2,
   "metadata": {},
   "outputs": [],
   "source": [
    "%load_ext Cython"
   ]
  },
  {
   "cell_type": "code",
   "execution_count": 3,
   "metadata": {},
   "outputs": [
    {
     "name": "stdout",
     "output_type": "stream",
     "text": [
      "Warning: 82 (1.03 %) of 7947 users have no train items\n",
      "Warning: 2290 (28.82 %) of 7947 users have no sampled items\n"
     ]
    }
   ],
   "source": [
    "from Notebooks_utils.evaluation_function import evaluate_algorithm\n",
    "from Base.Similarity.Compute_Similarity_Python import Compute_Similarity_Python\n",
    "from Base.Evaluation.Evaluator import EvaluatorHoldout\n",
    "from Data_manager.split_functions.split_train_validation_random_holdout import split_train_in_two_percentage_global_sample\n",
    "\n",
    "np.random.seed(41148)\n",
    "URM_train, URM_valid = split_train_in_two_percentage_global_sample(URM_all, train_percentage = 0.80)"
   ]
  },
  {
   "cell_type": "code",
   "execution_count": 4,
   "metadata": {},
   "outputs": [
    {
     "name": "stdout",
     "output_type": "stream",
     "text": [
      "RP3betaRecommender: URM Detected 82 (1.03 %) cold users.\n",
      "RP3betaRecommender: URM Detected 2372 (9.13 %) cold items.\n"
     ]
    }
   ],
   "source": [
    "from GraphBased.RP3betaRecommender import RP3betaRecommender\n",
    "RP3brecommender= RP3betaRecommender(URM_train)\n",
    "RP3brecommender.fit(topK=770, alpha=0.414615342821205, beta=0.17823717015919388, normalize_similarity=False)"
   ]
  },
  {
   "cell_type": "code",
   "execution_count": 5,
   "metadata": {},
   "outputs": [
    {
     "name": "stdout",
     "output_type": "stream",
     "text": [
      "IALSRecommender: URM Detected 82 (1.03 %) cold users.\n",
      "IALSRecommender: URM Detected 2372 (9.13 %) cold items.\n",
      "IALSRecommender: Epoch 1 of 10. Elapsed time 16.65 sec\n",
      "IALSRecommender: Epoch 2 of 10. Elapsed time 36.30 sec\n",
      "IALSRecommender: Epoch 3 of 10. Elapsed time 56.02 sec\n",
      "IALSRecommender: Epoch 4 of 10. Elapsed time 1.26 min\n",
      "IALSRecommender: Epoch 5 of 10. Elapsed time 1.61 min\n",
      "IALSRecommender: Epoch 6 of 10. Elapsed time 1.96 min\n",
      "IALSRecommender: Epoch 7 of 10. Elapsed time 2.31 min\n",
      "IALSRecommender: Epoch 8 of 10. Elapsed time 2.66 min\n",
      "IALSRecommender: Epoch 9 of 10. Elapsed time 3.01 min\n",
      "IALSRecommender: Epoch 10 of 10. Elapsed time 3.35 min\n",
      "IALSRecommender: Terminating at epoch 10. Elapsed time 3.35 min\n"
     ]
    }
   ],
   "source": [
    "from MatrixFactorization.IALSRecommender import IALSRecommender\n",
    "IALSrecommender= IALSRecommender(URM_train)\n",
    "IALSrecommender.fit(alpha = 49.99999999999999, epochs=10, num_factors=200, confidence_scaling=\"linear\",epsilon=0.002936450234353087, reg=0.01)"
   ]
  },
  {
   "cell_type": "code",
   "execution_count": 6,
   "metadata": {},
   "outputs": [
    {
     "name": "stdout",
     "output_type": "stream",
     "text": [
      "ItemKNNScoresHybridRecommender: URM Detected 82 (1.03 %) cold users.\n",
      "ItemKNNScoresHybridRecommender: URM Detected 2372 (9.13 %) cold items.\n",
      "EvaluatorHoldout: Processed 5657 ( 100.00% ) in 5.78 sec. Users per second: 979\n",
      "0.0 0.05765672866741284\n",
      "EvaluatorHoldout: Processed 5657 ( 100.00% ) in 5.00 sec. Users per second: 1130\n",
      "0.02 0.057942161310212424\n",
      "EvaluatorHoldout: Processed 5657 ( 100.00% ) in 5.02 sec. Users per second: 1128\n",
      "0.04 0.05853611826394703\n",
      "EvaluatorHoldout: Processed 5657 ( 100.00% ) in 5.00 sec. Users per second: 1131\n",
      "0.06 0.059253429987476264\n",
      "EvaluatorHoldout: Processed 5657 ( 100.00% ) in 4.99 sec. Users per second: 1134\n",
      "0.08 0.059575879085094284\n",
      "EvaluatorHoldout: Processed 5657 ( 100.00% ) in 5.02 sec. Users per second: 1128\n",
      "0.1 0.06013170907950977\n",
      "EvaluatorHoldout: Processed 5657 ( 100.00% ) in 5.03 sec. Users per second: 1124\n",
      "0.12 0.060452147611150996\n",
      "EvaluatorHoldout: Processed 5657 ( 100.00% ) in 4.99 sec. Users per second: 1133\n",
      "0.14 0.06065879698274142\n",
      "EvaluatorHoldout: Processed 5657 ( 100.00% ) in 5.00 sec. Users per second: 1132\n",
      "0.16 0.06116307453228311\n",
      "EvaluatorHoldout: Processed 5657 ( 100.00% ) in 5.00 sec. Users per second: 1131\n",
      "0.18 0.06136759224964832\n",
      "EvaluatorHoldout: Processed 5657 ( 100.00% ) in 4.99 sec. Users per second: 1133\n",
      "0.2 0.06167591263127128\n",
      "EvaluatorHoldout: Processed 5657 ( 100.00% ) in 5.03 sec. Users per second: 1125\n",
      "0.22 0.061941183607508346\n",
      "EvaluatorHoldout: Processed 5657 ( 100.00% ) in 5.03 sec. Users per second: 1125\n",
      "0.24 0.0621341144321471\n",
      "EvaluatorHoldout: Processed 5657 ( 100.00% ) in 5.01 sec. Users per second: 1128\n",
      "0.26 0.06273475712737132\n",
      "EvaluatorHoldout: Processed 5657 ( 100.00% ) in 5.06 sec. Users per second: 1117\n",
      "0.28 0.06326849093823439\n",
      "EvaluatorHoldout: Processed 5657 ( 100.00% ) in 5.00 sec. Users per second: 1132\n",
      "0.3 0.06334515137935055\n",
      "EvaluatorHoldout: Processed 5657 ( 100.00% ) in 4.99 sec. Users per second: 1133\n",
      "0.32 0.06351734822147595\n",
      "EvaluatorHoldout: Processed 5657 ( 100.00% ) in 5.02 sec. Users per second: 1127\n",
      "0.34 0.0637554104734621\n",
      "EvaluatorHoldout: Processed 5657 ( 100.00% ) in 5.04 sec. Users per second: 1123\n",
      "0.36 0.06346740658434141\n",
      "EvaluatorHoldout: Processed 5657 ( 100.00% ) in 5.10 sec. Users per second: 1110\n",
      "0.38 0.06355733785209072\n",
      "EvaluatorHoldout: Processed 5657 ( 100.00% ) in 5.11 sec. Users per second: 1107\n",
      "0.4 0.06416209033813536\n",
      "EvaluatorHoldout: Processed 5657 ( 100.00% ) in 5.02 sec. Users per second: 1127\n",
      "0.42 0.06415028963418223\n",
      "EvaluatorHoldout: Processed 5657 ( 100.00% ) in 5.02 sec. Users per second: 1128\n",
      "0.44 0.06411401045369602\n",
      "EvaluatorHoldout: Processed 5657 ( 100.00% ) in 5.07 sec. Users per second: 1117\n",
      "0.46 0.06402530139783606\n",
      "EvaluatorHoldout: Processed 5657 ( 100.00% ) in 5.02 sec. Users per second: 1127\n",
      "0.48 0.06406995398379334\n",
      "EvaluatorHoldout: Processed 5657 ( 100.00% ) in 5.09 sec. Users per second: 1112\n",
      "0.5 0.0644961180889119\n",
      "EvaluatorHoldout: Processed 5657 ( 100.00% ) in 5.01 sec. Users per second: 1129\n",
      "0.52 0.06461317551821205\n",
      "EvaluatorHoldout: Processed 5657 ( 100.00% ) in 4.99 sec. Users per second: 1134\n",
      "0.54 0.06463548568000921\n",
      "EvaluatorHoldout: Processed 5657 ( 100.00% ) in 5.05 sec. Users per second: 1120\n",
      "0.56 0.0644488286741248\n",
      "EvaluatorHoldout: Processed 5657 ( 100.00% ) in 5.03 sec. Users per second: 1124\n",
      "0.58 0.0647331583560823\n",
      "EvaluatorHoldout: Processed 5657 ( 100.00% ) in 4.98 sec. Users per second: 1136\n",
      "0.6 0.06444136796784587\n",
      "EvaluatorHoldout: Processed 5657 ( 100.00% ) in 5.09 sec. Users per second: 1112\n",
      "0.62 0.06456512650431685\n",
      "EvaluatorHoldout: Processed 5657 ( 100.00% ) in 5.02 sec. Users per second: 1127\n",
      "0.64 0.06443477405857033\n",
      "EvaluatorHoldout: Processed 5657 ( 100.00% ) in 5.01 sec. Users per second: 1129\n",
      "0.66 0.06464539178434\n",
      "EvaluatorHoldout: Processed 5657 ( 100.00% ) in 4.99 sec. Users per second: 1133\n",
      "0.68 0.06426455073220143\n",
      "EvaluatorHoldout: Processed 5657 ( 100.00% ) in 5.01 sec. Users per second: 1129\n",
      "0.7 0.06441340777270975\n",
      "EvaluatorHoldout: Processed 5657 ( 100.00% ) in 5.03 sec. Users per second: 1125\n",
      "0.72 0.06423543527166727\n",
      "EvaluatorHoldout: Processed 5657 ( 100.00% ) in 5.00 sec. Users per second: 1131\n",
      "0.74 0.06429135340719282\n",
      "EvaluatorHoldout: Processed 5657 ( 100.00% ) in 5.01 sec. Users per second: 1129\n",
      "0.76 0.06426549647317535\n",
      "EvaluatorHoldout: Processed 5657 ( 100.00% ) in 5.02 sec. Users per second: 1127\n",
      "0.78 0.06419842199019596\n",
      "EvaluatorHoldout: Processed 5657 ( 100.00% ) in 5.02 sec. Users per second: 1127\n",
      "0.8 0.06416210829259983\n",
      "EvaluatorHoldout: Processed 5657 ( 100.00% ) in 5.04 sec. Users per second: 1122\n",
      "0.82 0.06407194840467048\n",
      "EvaluatorHoldout: Processed 5657 ( 100.00% ) in 5.02 sec. Users per second: 1127\n",
      "0.84 0.063452210009178\n",
      "EvaluatorHoldout: Processed 5657 ( 100.00% ) in 5.00 sec. Users per second: 1131\n",
      "0.86 0.06332662390308522\n",
      "EvaluatorHoldout: Processed 5657 ( 100.00% ) in 5.01 sec. Users per second: 1128\n",
      "0.88 0.06344239025329457\n",
      "EvaluatorHoldout: Processed 5657 ( 100.00% ) in 5.03 sec. Users per second: 1125\n",
      "0.9 0.06326076470073685\n",
      "EvaluatorHoldout: Processed 5657 ( 100.00% ) in 5.00 sec. Users per second: 1132\n",
      "0.92 0.06271310170504268\n",
      "EvaluatorHoldout: Processed 5657 ( 100.00% ) in 5.02 sec. Users per second: 1126\n",
      "0.94 0.06252938026800685\n",
      "EvaluatorHoldout: Processed 5657 ( 100.00% ) in 5.00 sec. Users per second: 1133\n",
      "0.96 0.06242573407203506\n",
      "EvaluatorHoldout: Processed 5657 ( 100.00% ) in 5.00 sec. Users per second: 1132\n",
      "0.98 0.0624599617113948\n",
      "EvaluatorHoldout: Processed 5657 ( 100.00% ) in 4.24 sec. Users per second: 1335\n",
      "1.0 0.06210672852934433\n"
     ]
    }
   ],
   "source": [
    "from KNN.ItemKNNScoresHybridRecommender import ItemKNNScoresHybridRecommender\n",
    "\n",
    "recommender=ItemKNNScoresHybridRecommender(URM_train, RP3brecommender, IALSrecommender)\n",
    "evaluator_validation = EvaluatorHoldout(URM_valid, cutoff_list=[10])\n",
    "resultDF= pd.DataFrame({\"alpha\":[],\"MAP\":[]})\n",
    "\n",
    "for alpha in range(0,101,2):\n",
    "    recommender.fit(alpha/100)\n",
    "    MAP,_=evaluator_validation.evaluateRecommender(recommender)\n",
    "    MAP=MAP[10][\"MAP\"]\n",
    "    resultDF=resultDF.append({\"alpha\":[alpha/100],\"MAP\":[MAP]},ignore_index=True)\n",
    "    print(alpha/100, MAP)"
   ]
  },
  {
   "cell_type": "code",
   "execution_count": 7,
   "metadata": {},
   "outputs": [],
   "source": [
    "resultDF_sorted=resultDF.sort_values(by=['MAP'],ascending=False)\n",
    "resultDF_sorted.to_csv(\"Hybrid_IALS_RP3b_results_sorted.csv\")"
   ]
  },
  {
   "cell_type": "code",
   "execution_count": 8,
   "metadata": {},
   "outputs": [
    {
     "name": "stdout",
     "output_type": "stream",
     "text": [
      "RP3betaRecommender: URM Detected 1079 (4.15 %) cold items.\n",
      "IALSRecommender: URM Detected 1079 (4.15 %) cold items.\n",
      "IALSRecommender: Epoch 1 of 10. Elapsed time 20.88 sec\n",
      "IALSRecommender: Epoch 2 of 10. Elapsed time 41.93 sec\n",
      "IALSRecommender: Epoch 3 of 10. Elapsed time 1.05 min\n",
      "IALSRecommender: Epoch 4 of 10. Elapsed time 1.41 min\n",
      "IALSRecommender: Epoch 5 of 10. Elapsed time 1.77 min\n",
      "IALSRecommender: Epoch 6 of 10. Elapsed time 2.12 min\n",
      "IALSRecommender: Epoch 7 of 10. Elapsed time 2.47 min\n",
      "IALSRecommender: Epoch 8 of 10. Elapsed time 2.81 min\n",
      "IALSRecommender: Epoch 9 of 10. Elapsed time 3.14 min\n",
      "IALSRecommender: Epoch 10 of 10. Elapsed time 3.49 min\n",
      "IALSRecommender: Terminating at epoch 10. Elapsed time 3.49 min\n",
      "ItemKNNScoresHybridRecommender: URM Detected 1079 (4.15 %) cold items.\n"
     ]
    }
   ],
   "source": [
    "RP3brecommender_full= RP3betaRecommender(URM_all)\n",
    "RP3brecommender_full.fit(topK=770, alpha=0.414615342821205, beta=0.17823717015919388, normalize_similarity=False)\n",
    "\n",
    "IALSrecommender_full= IALSRecommender(URM_all)\n",
    "IALSrecommender_full.fit(alpha = 49.99999999999999, epochs=10, num_factors=200, confidence_scaling=\"linear\",epsilon=0.002936450234353087, reg=0.01)\n",
    "\n",
    "recommender_full= ItemKNNScoresHybridRecommender(URM_all, RP3brecommender_full, IALSrecommender_full)\n",
    "recommender_full.fit(alpha=resultDF_sorted.iloc[0]['alpha'][0])"
   ]
  },
  {
   "cell_type": "code",
   "execution_count": 9,
   "metadata": {},
   "outputs": [],
   "source": [
    "rec_df=pd.DataFrame({\"user_id\":[],\"item_list\":[]})\n",
    "target_user_list=list(pd.read_csv(\"./Data/2020/data_target_users_test.csv\").user_id)\n",
    "\n",
    "for uid in target_user_list:\n",
    "    rec_list=map(str,recommender_full.recommend(uid)[:10])\n",
    "    rec_df=rec_df.append({\"user_id\":uid,\"item_list\":' '.join(rec_list)},ignore_index=True)\n",
    "\n",
    "    \n",
    "rec_df=rec_df.astype({\"user_id\":'int32',\"item_list\":'str'})\n",
    "rec_df=rec_df.set_index('user_id')\n",
    "rec_df.to_csv(\"Hybrid_IALS_RP3b_recommendations.csv\")"
   ]
  }
 ],
 "metadata": {
  "kernelspec": {
   "display_name": "Python 3",
   "language": "python",
   "name": "python3"
  },
  "language_info": {
   "codemirror_mode": {
    "name": "ipython",
    "version": 3
   },
   "file_extension": ".py",
   "mimetype": "text/x-python",
   "name": "python",
   "nbconvert_exporter": "python",
   "pygments_lexer": "ipython3",
   "version": "3.8.3"
  }
 },
 "nbformat": 4,
 "nbformat_minor": 4
}
