{
 "cells": [
  {
   "cell_type": "markdown",
   "metadata": {},
   "source": [
    "# User Collaborative Filtering Bagging"
   ]
  },
  {
   "cell_type": "code",
   "execution_count": 1,
   "metadata": {},
   "outputs": [],
   "source": [
    "import scipy.sparse as sps\n",
    "import numpy as np\n",
    "import os\n",
    "import pandas as pd \n",
    "\n",
    "URM_all= sps.load_npz(\"./Processed Matrices/URM_simple_coo_2020.npz\").tocsr()"
   ]
  },
  {
   "cell_type": "code",
   "execution_count": 2,
   "metadata": {},
   "outputs": [],
   "source": [
    "from Notebooks_utils.evaluation_function import evaluate_algorithm\n",
    "from Base.Similarity.Compute_Similarity_Python import Compute_Similarity_Python\n",
    "from KNN.UserKNNCFRecommender import UserKNNCFRecommender\n",
    "from Base.Evaluation.Evaluator import EvaluatorHoldout\n",
    "from Data_manager.split_functions.split_train_validation_random_holdout import split_train_in_two_percentage_global_sample"
   ]
  },
  {
   "cell_type": "code",
   "execution_count": 3,
   "metadata": {},
   "outputs": [
    {
     "name": "stdout",
     "output_type": "stream",
     "text": [
      "UserKNNCFRecommender: URM Detected 250 (3.15 %) cold users.\n",
      "UserKNNCFRecommender: URM Detected 4113 (15.83 %) cold items.\n",
      "Unable to load Cython Compute_Similarity, reverting to Python\n",
      "Similarity column 7947 ( 100 % ), 3946.31 column/sec, elapsed time 0.03 min\n",
      "UserKNNCFRecommender: URM Detected 243 (3.06 %) cold users.\n",
      "UserKNNCFRecommender: URM Detected 4110 (15.82 %) cold items.\n",
      "Unable to load Cython Compute_Similarity, reverting to Python\n",
      "Similarity column 7947 ( 100 % ), 4235.76 column/sec, elapsed time 0.03 min\n",
      "UserKNNCFRecommender: URM Detected 256 (3.22 %) cold users.\n",
      "UserKNNCFRecommender: URM Detected 4107 (15.81 %) cold items.\n",
      "Unable to load Cython Compute_Similarity, reverting to Python\n",
      "Similarity column 7947 ( 100 % ), 4167.70 column/sec, elapsed time 0.03 min\n",
      "UserKNNCFRecommender: URM Detected 226 (2.84 %) cold users.\n",
      "UserKNNCFRecommender: URM Detected 4081 (15.71 %) cold items.\n",
      "Unable to load Cython Compute_Similarity, reverting to Python\n",
      "Similarity column 7947 ( 100 % ), 4317.18 column/sec, elapsed time 0.03 min\n",
      "UserKNNCFRecommender: URM Detected 263 (3.31 %) cold users.\n",
      "UserKNNCFRecommender: URM Detected 4074 (15.68 %) cold items.\n",
      "Unable to load Cython Compute_Similarity, reverting to Python\n",
      "Similarity column 7947 ( 100 % ), 4196.83 column/sec, elapsed time 0.03 min\n",
      "UserKNNCFRecommender: URM Detected 257 (3.23 %) cold users.\n",
      "UserKNNCFRecommender: URM Detected 4167 (16.04 %) cold items.\n",
      "Unable to load Cython Compute_Similarity, reverting to Python\n",
      "Similarity column 7947 ( 100 % ), 4099.01 column/sec, elapsed time 0.03 min\n",
      "UserKNNCFRecommender: URM Detected 259 (3.26 %) cold users.\n",
      "UserKNNCFRecommender: URM Detected 4230 (16.28 %) cold items.\n",
      "Unable to load Cython Compute_Similarity, reverting to Python\n",
      "Similarity column 7947 ( 100 % ), 4293.86 column/sec, elapsed time 0.03 min\n",
      "UserKNNCFRecommender: URM Detected 228 (2.87 %) cold users.\n",
      "UserKNNCFRecommender: URM Detected 4083 (15.72 %) cold items.\n",
      "Unable to load Cython Compute_Similarity, reverting to Python\n",
      "Similarity column 7947 ( 100 % ), 4044.07 column/sec, elapsed time 0.03 min\n",
      "UserKNNCFRecommender: URM Detected 234 (2.94 %) cold users.\n",
      "UserKNNCFRecommender: URM Detected 4156 (16.00 %) cold items.\n",
      "Unable to load Cython Compute_Similarity, reverting to Python\n",
      "Similarity column 7947 ( 100 % ), 3837.28 column/sec, elapsed time 0.03 min\n",
      "UserKNNCFRecommender: URM Detected 240 (3.02 %) cold users.\n",
      "UserKNNCFRecommender: URM Detected 4192 (16.14 %) cold items.\n",
      "Unable to load Cython Compute_Similarity, reverting to Python\n",
      "Similarity column 7947 ( 100 % ), 4214.72 column/sec, elapsed time 0.03 min\n",
      "UserKNNCFRecommender: URM Detected 229 (2.88 %) cold users.\n",
      "UserKNNCFRecommender: URM Detected 4217 (16.23 %) cold items.\n",
      "Unable to load Cython Compute_Similarity, reverting to Python\n",
      "Similarity column 7947 ( 100 % ), 4188.57 column/sec, elapsed time 0.03 min\n",
      "UserKNNCFRecommender: URM Detected 264 (3.32 %) cold users.\n",
      "UserKNNCFRecommender: URM Detected 4126 (15.88 %) cold items.\n",
      "Unable to load Cython Compute_Similarity, reverting to Python\n",
      "Similarity column 7947 ( 100 % ), 4237.07 column/sec, elapsed time 0.03 min\n",
      "UserKNNCFRecommender: URM Detected 225 (2.83 %) cold users.\n",
      "UserKNNCFRecommender: URM Detected 4167 (16.04 %) cold items.\n",
      "Unable to load Cython Compute_Similarity, reverting to Python\n",
      "Similarity column 7947 ( 100 % ), 3905.32 column/sec, elapsed time 0.03 min\n",
      "UserKNNCFRecommender: URM Detected 231 (2.91 %) cold users.\n",
      "UserKNNCFRecommender: URM Detected 4095 (15.77 %) cold items.\n",
      "Unable to load Cython Compute_Similarity, reverting to Python\n",
      "Similarity column 7947 ( 100 % ), 3965.97 column/sec, elapsed time 0.03 min\n",
      "UserKNNCFRecommender: URM Detected 286 (3.60 %) cold users.\n",
      "UserKNNCFRecommender: URM Detected 4206 (16.19 %) cold items.\n",
      "Unable to load Cython Compute_Similarity, reverting to Python\n",
      "Similarity column 7947 ( 100 % ), 4187.96 column/sec, elapsed time 0.03 min\n",
      "UserKNNCFRecommender: URM Detected 238 (2.99 %) cold users.\n",
      "UserKNNCFRecommender: URM Detected 4111 (15.83 %) cold items.\n",
      "Unable to load Cython Compute_Similarity, reverting to Python\n",
      "Similarity column 7947 ( 100 % ), 4059.60 column/sec, elapsed time 0.03 min\n",
      "UserKNNCFRecommender: URM Detected 258 (3.25 %) cold users.\n",
      "UserKNNCFRecommender: URM Detected 4136 (15.92 %) cold items.\n",
      "Unable to load Cython Compute_Similarity, reverting to Python\n",
      "Similarity column 7947 ( 100 % ), 4074.38 column/sec, elapsed time 0.03 min\n",
      "UserKNNCFRecommender: URM Detected 250 (3.15 %) cold users.\n",
      "UserKNNCFRecommender: URM Detected 4173 (16.07 %) cold items.\n",
      "Unable to load Cython Compute_Similarity, reverting to Python\n",
      "Similarity column 7947 ( 100 % ), 4154.24 column/sec, elapsed time 0.03 min\n",
      "UserKNNCFRecommender: URM Detected 234 (2.94 %) cold users.\n",
      "UserKNNCFRecommender: URM Detected 4132 (15.91 %) cold items.\n",
      "Unable to load Cython Compute_Similarity, reverting to Python\n",
      "Similarity column 7947 ( 100 % ), 4153.40 column/sec, elapsed time 0.03 min\n",
      "UserKNNCFRecommender: URM Detected 254 (3.20 %) cold users.\n",
      "UserKNNCFRecommender: URM Detected 4179 (16.09 %) cold items.\n",
      "Unable to load Cython Compute_Similarity, reverting to Python\n",
      "Similarity column 7947 ( 100 % ), 4178.45 column/sec, elapsed time 0.03 min\n"
     ]
    }
   ],
   "source": [
    "recommender_list=list()\n",
    "URM_list=list()\n",
    "num_recs=20\n",
    "num_nnz=URM_all.nnz\n",
    "URM_all_coo=URM_all.tocoo()\n",
    "\n",
    "for i in range(num_recs):\n",
    "    \n",
    "    URM_i=np.zeros(URM_all.shape)\n",
    "    \n",
    "    for i in range(num_nnz):\n",
    "        \n",
    "        sample_index=np.random.randint(num_nnz)\n",
    "        user_id = URM_all_coo.row[sample_index]\n",
    "        item_id = URM_all_coo.col[sample_index]\n",
    "        rating = URM_all_coo.data[sample_index]\n",
    "        URM_i[user_id, item_id]=rating\n",
    "    \n",
    "    URM_i_csr=sps.csr_matrix(URM_i)\n",
    "    URM_list.append(URM_i_csr)\n",
    "    recommender = UserKNNCFRecommender(URM_i_csr)\n",
    "    recommender.fit(topK=100, shrink=50, similarity='cosine')\n",
    "    recommender_list.append(recommender)"
   ]
  },
  {
   "cell_type": "code",
   "execution_count": 4,
   "metadata": {},
   "outputs": [],
   "source": [
    "def ensemble_recommend (recommender_list, user, nitems, at):\n",
    "    \"\"\"compute recommendation of ensemble recommenders\"\"\"\n",
    "    \n",
    "    recommendations = np.column_stack((list(range(nitems)),np.zeros(nitems)))\n",
    "    \n",
    "    for recommender in recommender_list:\n",
    "\n",
    "            rec_i=recommender.recommend(user)[:at]\n",
    "\n",
    "            for rank, item in enumerate(rec_i):\n",
    "            \n",
    "                recommendations[item][1]+= at-rank\n",
    "                \n",
    "    recommendations=sorted(recommendations, key=lambda item: item[1],reverse=True)\n",
    "    \n",
    "    return [int(r[0]) for r in recommendations[:at]]"
   ]
  },
  {
   "cell_type": "code",
   "execution_count": 5,
   "metadata": {},
   "outputs": [],
   "source": [
    "rec_df=pd.DataFrame({\"user_id\":[],\"item_list\":[]})\n",
    "target_user_list=list(pd.read_csv(\"./Data/2020/data_target_users_test.csv\").user_id)\n",
    "for uid in target_user_list:\n",
    "    recommendation_list=list(map(str,ensemble_recommend(recommender_list,uid,URM_all.shape[1],10)))\n",
    "    rec_df=rec_df.append({\"user_id\":uid,\"item_list\":' '.join(recommendation_list)},ignore_index=True)\n",
    "\n",
    "    \n",
    "rec_df=rec_df.astype({\"user_id\":'int32',\"item_list\":'str'})\n",
    "rec_df=rec_df.set_index('user_id')\n",
    "rec_df.to_csv(\"CF_bagging_recomm_100_50_cosine_20_learner_nosum.csv\")"
   ]
  }
 ],
 "metadata": {
  "kernelspec": {
   "display_name": "Python 3",
   "language": "python",
   "name": "python3"
  },
  "language_info": {
   "codemirror_mode": {
    "name": "ipython",
    "version": 3
   },
   "file_extension": ".py",
   "mimetype": "text/x-python",
   "name": "python",
   "nbconvert_exporter": "python",
   "pygments_lexer": "ipython3",
   "version": "3.8.3"
  }
 },
 "nbformat": 4,
 "nbformat_minor": 4
}
