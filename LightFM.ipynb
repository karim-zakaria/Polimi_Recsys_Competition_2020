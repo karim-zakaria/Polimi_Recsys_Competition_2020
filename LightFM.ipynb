{
 "cells": [
  {
   "cell_type": "code",
   "execution_count": 1,
   "metadata": {},
   "outputs": [],
   "source": [
    "import scipy.sparse as sps\n",
    "import numpy as np\n",
    "import os\n",
    "import pandas as pd \n",
    "import itertools\n",
    "from lightfm import LightFM\n",
    "\n",
    "np.random.seed(41148)\n",
    "\n",
    "URM_all= sps.load_npz(\"./Processed Matrices/URM_simple_coo_2020.npz\").tocsr()\n",
    "ICM_all= sps.load_npz(\"./Processed Matrices/ICM_nonweighted_simple_coo_2020.npz\").tocsr()"
   ]
  },
  {
   "cell_type": "code",
   "execution_count": 2,
   "metadata": {},
   "outputs": [
    {
     "name": "stdout",
     "output_type": "stream",
     "text": [
      "Warning: 82 (1.03 %) of 7947 users have no train items\n",
      "Warning: 2290 (28.82 %) of 7947 users have no sampled items\n"
     ]
    }
   ],
   "source": [
    "from Notebooks_utils.evaluation_function import evaluate_algorithm\n",
    "from Base.Similarity.Compute_Similarity_Python import Compute_Similarity_Python\n",
    "from Base.Evaluation.Evaluator import EvaluatorHoldout\n",
    "from Data_manager.split_functions.split_train_validation_random_holdout import split_train_in_two_percentage_global_sample\n",
    "\n",
    "URM_train, URM_valid = split_train_in_two_percentage_global_sample(URM_all, train_percentage = 0.80)"
   ]
  },
  {
   "cell_type": "code",
   "execution_count": null,
   "metadata": {},
   "outputs": [],
   "source": [
    "    \n",
    "def sample_hyperparameters():\n",
    "    \"\"\"\n",
    "    Yield possible hyperparameter choices.\n",
    "    \"\"\"\n",
    "\n",
    "    while True:\n",
    "        yield {\n",
    "            \"no_components\": np.random.randint(16, 256),\n",
    "            \"learning_schedule\": np.random.choice([\"adagrad\", \"adadelta\"]),\n",
    "            \"learning_rate\": np.random.exponential(0.1),\n",
    "            \"loss\":\"warp-kos\",\n",
    "            \"item_alpha\": np.random.exponential(1e-5),\n",
    "            \"user_alpha\": np.random.exponential(1e-5),\n",
    "            \"num_epochs\": np.random.randint(10, 200),\n",
    "            \"k\":10\n",
    "        }\n",
    "\n",
    "num_samples=300\n",
    "num_threads=4\n",
    "\n",
    "resultDF= pd.DataFrame({\"hparams\":[],\"epochs\":[],\"auc\":[],\"precision\":[]})\n",
    "from lightfm.evaluation import auc_score, recall_at_k,precision_at_k\n",
    "\n",
    "i=0\n",
    "for hparams in itertools.islice(sample_hyperparameters(), num_samples):\n",
    "    \n",
    "    i+=1\n",
    "    num_epochs = hparams.pop(\"num_epochs\")\n",
    "    model = LightFM(**hparams)\n",
    "    model.fit(URM_train, item_features=ICM_all, epochs=num_epochs, num_threads=num_threads)\n",
    "    auc=auc_score(model, URM_valid, item_features=ICM_all, num_threads=num_threads).mean()\n",
    "    precision=precision_at_k(model, URM_valid, item_features=ICM_all, num_threads=num_threads,k=10).mean()\n",
    "    resultDF=resultDF.append({\"hparams\":hparams,\"epochs\":num_epochs,\"auc\":auc,\"precision\":precision},ignore_index=True)\n",
    "    print(i,hparams,num_epochs,auc,precision)\n",
    "    "
   ]
  },
  {
   "cell_type": "code",
   "execution_count": null,
   "metadata": {},
   "outputs": [],
   "source": [
    "resultDF_sorted=resultDF.sort_values(by=['precision'],ascending=False)\n",
    "resultDF_sorted.to_csv(\"LightFM_results_sorted.csv\")"
   ]
  },
  {
   "cell_type": "code",
   "execution_count": null,
   "metadata": {},
   "outputs": [],
   "source": [
    "best_model= LightFM(**resultDF_sorted.iloc[0][\"hparams\"])\n",
    "model.fit(URM_all, item_features=ICM_all, epochs=int(resultDF_sorted.iloc[0][\"epochs\"]), num_threads=num_threads)"
   ]
  },
  {
   "cell_type": "code",
   "execution_count": null,
   "metadata": {},
   "outputs": [],
   "source": [
    "def remove_seen(user_id, scores, URM):\n",
    "\n",
    "        seen = URM.indices[URM.indptr[user_id]:URM.indptr[user_id + 1]]\n",
    "\n",
    "        scores[seen] = -np.inf\n",
    "        return scores"
   ]
  },
  {
   "cell_type": "code",
   "execution_count": null,
   "metadata": {},
   "outputs": [],
   "source": [
    "rec_df=pd.DataFrame({\"user_id\":[],\"item_list\":[]})\n",
    "target_user_list=list(pd.read_csv(\"./Data/2020/data_target_users_test.csv\").user_id)\n",
    "\n",
    "for uid in target_user_list:\n",
    "    scores=model.predict(uid,list(range(URM_all.shape[1])),item_features=ICM_all,num_threads=num_threads)\n",
    "    scores=remove_seen(uid,scores,URM_all)\n",
    "    rec_list=scores.argsort()[-10:][::-1]\n",
    "    rec_list=map(str,list(rec_list))\n",
    "    rec_df=rec_df.append({\"user_id\":uid,\"item_list\":' '.join(rec_list)},ignore_index=True)\n",
    "\n",
    "    \n",
    "rec_df=rec_df.astype({\"user_id\":'int32',\"item_list\":'str'})\n",
    "rec_df=rec_df.set_index('user_id')\n",
    "rec_df.to_csv(\"LightFM_recommendations.csv\")"
   ]
  }
 ],
 "metadata": {
  "kernelspec": {
   "display_name": "Python 3",
   "language": "python",
   "name": "python3"
  },
  "language_info": {
   "codemirror_mode": {
    "name": "ipython",
    "version": 3
   },
   "file_extension": ".py",
   "mimetype": "text/x-python",
   "name": "python",
   "nbconvert_exporter": "python",
   "pygments_lexer": "ipython3",
   "version": "3.8.3"
  }
 },
 "nbformat": 4,
 "nbformat_minor": 4
}
