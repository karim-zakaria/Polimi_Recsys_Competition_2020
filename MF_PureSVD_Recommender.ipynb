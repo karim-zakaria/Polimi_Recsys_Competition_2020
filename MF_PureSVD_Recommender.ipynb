{
 "cells": [
  {
   "cell_type": "code",
   "execution_count": 1,
   "metadata": {},
   "outputs": [],
   "source": [
    "#import libraries\n",
    "\n",
    "import scipy.sparse as sps\n",
    "import numpy as np\n",
    "import os\n",
    "import pandas as pd \n",
    "\n",
    "URM_all= sps.load_npz(\"./Processed Matrices/URM_simple_coo_2020.npz\").tocsr()\n",
    "ICM_all= sps.load_npz(\"./Processed Matrices/ICM_simple_coo_2020.npz\").tocsr()"
   ]
  },
  {
   "cell_type": "code",
   "execution_count": 2,
   "metadata": {},
   "outputs": [],
   "source": [
    "%load_ext Cython"
   ]
  },
  {
   "cell_type": "code",
   "execution_count": 5,
   "metadata": {},
   "outputs": [
    {
     "name": "stdout",
     "output_type": "stream",
     "text": [
      "Warning: 8 (0.10 %) of 7947 users have no train items\n",
      "Warning: 5223 (65.72 %) of 7947 users have no sampled items\n"
     ]
    }
   ],
   "source": [
    "from Notebooks_utils.evaluation_function import evaluate_algorithm\n",
    "from Base.Similarity.Compute_Similarity_Python import Compute_Similarity_Python\n",
    "from Base.Evaluation.Evaluator import EvaluatorHoldout\n",
    "from Data_manager.split_functions.split_train_validation_random_holdout import split_train_in_two_percentage_global_sample\n",
    "\n",
    "np.random.seed(41148)\n",
    "URM_train, URM_valid = split_train_in_two_percentage_global_sample(URM_all, train_percentage = 0.95)"
   ]
  },
  {
   "cell_type": "code",
   "execution_count": 6,
   "metadata": {},
   "outputs": [],
   "source": [
    "from MatrixFactorization.PureSVDRecommender import PureSVDRecommender"
   ]
  },
  {
   "cell_type": "code",
   "execution_count": 7,
   "metadata": {},
   "outputs": [
    {
     "name": "stdout",
     "output_type": "stream",
     "text": [
      "PureSVDRecommender: URM Detected 1079 (4.15 %) cold items.\n"
     ]
    }
   ],
   "source": [
    "recommender= PureSVDRecommender(URM_all)"
   ]
  },
  {
   "cell_type": "code",
   "execution_count": 8,
   "metadata": {},
   "outputs": [],
   "source": [
    "recommender.num_factors=350"
   ]
  },
  {
   "cell_type": "code",
   "execution_count": 9,
   "metadata": {},
   "outputs": [
    {
     "name": "stdout",
     "output_type": "stream",
     "text": [
      "PureSVDRecommender: Computing SVD decomposition...\n",
      "PureSVDRecommender: Computing SVD decomposition... Done!\n"
     ]
    }
   ],
   "source": [
    "recommender.fit(num_factors=350)"
   ]
  },
  {
   "cell_type": "code",
   "execution_count": 10,
   "metadata": {},
   "outputs": [],
   "source": [
    "rec_df=pd.DataFrame({\"user_id\":[],\"item_list\":[]})\n",
    "target_user_list=list(pd.read_csv(\"./Data/2020/data_target_users_test.csv\").user_id)\n",
    "\n",
    "for uid in target_user_list:\n",
    "    rec_list=map(str,recommender.recommend(uid)[:10])\n",
    "    rec_df=rec_df.append({\"user_id\":uid,\"item_list\":' '.join(rec_list)},ignore_index=True)\n",
    "\n",
    "    \n",
    "rec_df=rec_df.astype({\"user_id\":'int32',\"item_list\":'str'})\n",
    "rec_df=rec_df.set_index('user_id')\n",
    "rec_df.to_csv(\"MF_PureSVD_recommendations.csv\")"
   ]
  }
 ],
 "metadata": {
  "kernelspec": {
   "display_name": "Python 3",
   "language": "python",
   "name": "python3"
  },
  "language_info": {
   "codemirror_mode": {
    "name": "ipython",
    "version": 3
   },
   "file_extension": ".py",
   "mimetype": "text/x-python",
   "name": "python",
   "nbconvert_exporter": "python",
   "pygments_lexer": "ipython3",
   "version": "3.8.3"
  }
 },
 "nbformat": 4,
 "nbformat_minor": 4
}
