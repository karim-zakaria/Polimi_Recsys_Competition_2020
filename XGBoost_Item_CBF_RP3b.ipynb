{
 "cells": [
  {
   "cell_type": "markdown",
   "metadata": {},
   "source": [
    "# XGBoost Reweighted ItemKNN-RP3b"
   ]
  },
  {
   "cell_type": "code",
   "execution_count": 1,
   "metadata": {},
   "outputs": [],
   "source": [
    "#import libraries\n",
    "\n",
    "import scipy.sparse as sps\n",
    "import numpy as np\n",
    "import os\n",
    "\n",
    "URM_all= sps.load_npz(\"./Processed Matrices/URM_simple_coo_2020.npz\").tocsr()\n",
    "ICM_all= sps.load_npz(\"./Processed Matrices/ICM_simple_coo_2020.npz\").tocsr()"
   ]
  },
  {
   "cell_type": "code",
   "execution_count": 2,
   "metadata": {},
   "outputs": [],
   "source": [
    "%load_ext Cython"
   ]
  },
  {
   "cell_type": "code",
   "execution_count": 3,
   "metadata": {},
   "outputs": [
    {
     "name": "stdout",
     "output_type": "stream",
     "text": [
      "Warning: 158 (1.99 %) of 7947 users have no train items\n",
      "Warning: 1455 (18.31 %) of 7947 users have no sampled items\n"
     ]
    }
   ],
   "source": [
    "from Notebooks_utils.evaluation_function import evaluate_algorithm\n",
    "from Base.Similarity.Compute_Similarity_Python import Compute_Similarity_Python\n",
    "from Base.Evaluation.Evaluator import EvaluatorHoldout\n",
    "from Data_manager.split_functions.split_train_validation_random_holdout import split_train_in_two_percentage_global_sample\n",
    "\n",
    "np.random.seed(41148)\n",
    "URM_train, URM_valid = split_train_in_two_percentage_global_sample(URM_all, train_percentage = 0.70)"
   ]
  },
  {
   "cell_type": "code",
   "execution_count": 4,
   "metadata": {},
   "outputs": [
    {
     "name": "stdout",
     "output_type": "stream",
     "text": [
      "RP3betaRecommender: URM Detected 158 (1.99 %) cold users.\n",
      "RP3betaRecommender: URM Detected 3328 (12.81 %) cold items.\n"
     ]
    }
   ],
   "source": [
    "from GraphBased.RP3betaRecommender import RP3betaRecommender\n",
    "RP3brecommender= RP3betaRecommender(URM_train)\n",
    "RP3brecommender.fit(topK=770, alpha=0.414615342821205, beta=0.17823717015919388, normalize_similarity=False)"
   ]
  },
  {
   "cell_type": "code",
   "execution_count": 5,
   "metadata": {},
   "outputs": [
    {
     "name": "stdout",
     "output_type": "stream",
     "text": [
      "ItemKNNCBFRecommender: URM Detected 158 (1.99 %) cold users.\n",
      "ItemKNNCBFRecommender: URM Detected 3328 (12.81 %) cold items.\n",
      "Similarity column 25975 ( 100 % ), 3655.99 column/sec, elapsed time 0.12 min\n"
     ]
    }
   ],
   "source": [
    "from KNN.ItemKNNCBFRecommender import ItemKNNCBFRecommender\n",
    "ItemKNNrecommender=ItemKNNCBFRecommender(URM_train, ICM_all)\n",
    "ItemKNNrecommender.fit(topK=393, shrink=6, similarity=\"dice\")"
   ]
  },
  {
   "cell_type": "code",
   "execution_count": 6,
   "metadata": {},
   "outputs": [
    {
     "name": "stdout",
     "output_type": "stream",
     "text": [
      "ItemKNNSimilarityHybridRecommender: URM Detected 158 (1.99 %) cold users.\n",
      "ItemKNNSimilarityHybridRecommender: URM Detected 3328 (12.81 %) cold items.\n"
     ]
    }
   ],
   "source": [
    "from KNN.ItemKNNSimilarityHybridRecommender import ItemKNNSimilarityHybridRecommender\n",
    "Hybridrecommender= ItemKNNSimilarityHybridRecommender(URM_train, RP3brecommender.W_sparse, ItemKNNrecommender.W_sparse)\n",
    "Hybridrecommender.fit(topK=1100, alpha=0.5)"
   ]
  },
  {
   "cell_type": "code",
   "execution_count": 7,
   "metadata": {},
   "outputs": [
    {
     "name": "stdout",
     "output_type": "stream",
     "text": [
      "TopPopRecommender: URM Detected 158 (1.99 %) cold users.\n",
      "TopPopRecommender: URM Detected 3328 (12.81 %) cold items.\n"
     ]
    }
   ],
   "source": [
    "from Base.NonPersonalizedRecommender import TopPop\n",
    "topPop = TopPop(URM_train)\n",
    "topPop.fit()"
   ]
  },
  {
   "cell_type": "code",
   "execution_count": 8,
   "metadata": {},
   "outputs": [],
   "source": [
    "import xgboost as xgb\n",
    "import pandas as pd \n",
    "\n",
    "target_user_list=list(pd.read_csv(\"./Data/2020/data_target_users_test.csv\").user_id)\n",
    "user_list=[]\n",
    "recommendations=[]\n",
    "scores=[]\n",
    "profile_len=[]\n",
    "popularity=[]\n",
    "for uid in target_user_list:\n",
    "    user_list+=([uid]*10)\n",
    "    user_rec=Hybridrecommender.recommend(uid)[:10]\n",
    "    recommendations+=user_rec\n",
    "    scores+=list(Hybridrecommender._compute_item_score(uid)[0,user_rec])\n",
    "    profile_len+=[URM_train[uid].nnz]*10\n",
    "    popularity+=list(topPop._compute_item_score([uid])[0,user_rec])\n",
    "\n",
    "X_train=pd.DataFrame({\"user_id\":user_list,\"item_id\":recommendations,\"item_score\":scores,\"profile_len\":profile_len,\"popularity\":popularity})\n",
    "y_train=[URM_valid[u,i] for u,i in zip(user_list,recommendations)]"
   ]
  },
  {
   "cell_type": "code",
   "execution_count": 9,
   "metadata": {},
   "outputs": [
    {
     "data": {
      "text/plain": [
       "XGBClassifier(base_score=0.5, booster='gbtree', colsample_bylevel=1,\n",
       "              colsample_bynode=1, colsample_bytree=1, gamma=0, gpu_id=-1,\n",
       "              importance_type='gain', interaction_constraints='',\n",
       "              learning_rate=0.300000012, max_delta_step=0, max_depth=6,\n",
       "              min_child_weight=1, missing=nan, monotone_constraints='()',\n",
       "              n_estimators=100, n_jobs=0, num_parallel_tree=1, random_state=0,\n",
       "              reg_alpha=0, reg_lambda=1, scale_pos_weight=0.9580689828801612,\n",
       "              subsample=1, tree_method='exact', validate_parameters=1,\n",
       "              verbosity=None)"
      ]
     },
     "execution_count": 9,
     "metadata": {},
     "output_type": "execute_result"
    }
   ],
   "source": [
    "URM_num_elements=URM_all.shape[0]*URM_all.shape[1]\n",
    "model=xgb.XGBClassifier(scale_pos_weight=(len(y_train)-sum(y_train))/len(y_train))\n",
    "model.fit(X_train.drop([\"user_id\",\"item_id\"],axis=1),y_train)"
   ]
  },
  {
   "cell_type": "code",
   "execution_count": 10,
   "metadata": {},
   "outputs": [
    {
     "name": "stdout",
     "output_type": "stream",
     "text": [
      "RP3betaRecommender: URM Detected 1079 (4.15 %) cold items.\n",
      "ItemKNNCBFRecommender: URM Detected 1079 (4.15 %) cold items.\n",
      "Similarity column 25975 ( 100 % ), 3908.27 column/sec, elapsed time 0.11 min\n",
      "ItemKNNSimilarityHybridRecommender: URM Detected 1079 (4.15 %) cold items.\n",
      "TopPopRecommender: URM Detected 1079 (4.15 %) cold items.\n"
     ]
    }
   ],
   "source": [
    "RP3brecommender_full= RP3betaRecommender(URM_all)\n",
    "RP3brecommender_full.fit(topK=770, alpha=0.414615342821205, beta=0.17823717015919388, normalize_similarity=False)\n",
    "\n",
    "ItemKNNrecommender_full=ItemKNNCBFRecommender(URM_all, ICM_all)\n",
    "ItemKNNrecommender_full.fit(topK=393, shrink=6, similarity=\"dice\")\n",
    "\n",
    "Hybridrecommender_full= ItemKNNSimilarityHybridRecommender(URM_all, RP3brecommender.W_sparse, ItemKNNrecommender.W_sparse)\n",
    "Hybridrecommender_full.fit(topK=1100, alpha=0.5)\n",
    "\n",
    "topPop_full = TopPop(URM_all)\n",
    "topPop_full.fit()\n",
    "\n",
    "user_list=[]\n",
    "recommendations=[]\n",
    "scores=[]\n",
    "profile_len=[]\n",
    "popularity=[]\n",
    "\n",
    "for uid in target_user_list:\n",
    "    user_list+=([uid]*10)\n",
    "    user_rec=Hybridrecommender_full.recommend(uid)[:10]\n",
    "    recommendations+=user_rec\n",
    "    scores+=list(Hybridrecommender._compute_item_score(uid)[0,user_rec])\n",
    "    profile_len+=[URM_train[uid].nnz]*10\n",
    "    popularity+=list(topPop_full._compute_item_score([uid])[0,user_rec])\n",
    "\n",
    "X=pd.DataFrame({\"user_id\":user_list,\"item_id\":recommendations,\"item_score\":scores,\"profile_len\":profile_len,\"popularity\":popularity})\n",
    "y=model.predict_proba(X.drop([\"user_id\",\"item_id\"],axis=1))"
   ]
  },
  {
   "cell_type": "code",
   "execution_count": 11,
   "metadata": {},
   "outputs": [],
   "source": [
    "df_complete=X\n",
    "df_complete[\"prediction\"]=y[:,1]\n",
    "\n",
    "rec_df=pd.DataFrame({\"user_id\":[],\"item_list\":[]})\n",
    "\n",
    "for uid in target_user_list:\n",
    "    user_final_rec=df_complete[df_complete[\"user_id\"]==uid][[\"item_id\",\"prediction\"]].sort_values([\"prediction\"],ascending=False)[:10].item_id.values\n",
    "    rec_list=map(str,user_final_rec)\n",
    "    rec_df=rec_df.append({\"user_id\":uid,\"item_list\":' '.join(rec_list)},ignore_index=True)\n",
    "\n",
    "    \n",
    "rec_df=rec_df.astype({\"user_id\":'int32',\"item_list\":'str'})\n",
    "rec_df=rec_df.set_index('user_id')\n",
    "rec_df.to_csv(\"XGBoost_ItemCBF_RP3b_recommendations.csv\")"
   ]
  }
 ],
 "metadata": {
  "kernelspec": {
   "display_name": "Python 3",
   "language": "python",
   "name": "python3"
  },
  "language_info": {
   "codemirror_mode": {
    "name": "ipython",
    "version": 3
   },
   "file_extension": ".py",
   "mimetype": "text/x-python",
   "name": "python",
   "nbconvert_exporter": "python",
   "pygments_lexer": "ipython3",
   "version": "3.8.3"
  }
 },
 "nbformat": 4,
 "nbformat_minor": 4
}
