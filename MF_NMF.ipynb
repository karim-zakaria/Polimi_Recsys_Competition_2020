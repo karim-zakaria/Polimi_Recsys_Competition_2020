{
 "cells": [
  {
   "cell_type": "markdown",
   "metadata": {},
   "source": [
    "# Matrix Factorization NMF"
   ]
  },
  {
   "cell_type": "code",
   "execution_count": 1,
   "metadata": {},
   "outputs": [],
   "source": [
    "#import libraries\n",
    "\n",
    "import scipy.sparse as sps\n",
    "import numpy as np\n",
    "import os\n",
    "import pandas as pd \n",
    "\n",
    "URM_all= sps.load_npz(\"./Processed Matrices/URM_simple_coo_2020.npz\").tocsr()\n",
    "ICM_all= sps.load_npz(\"./Processed Matrices/ICM_simple_coo_2020.npz\").tocsr()\n",
    "np.random.seed(41148)"
   ]
  },
  {
   "cell_type": "code",
   "execution_count": 2,
   "metadata": {},
   "outputs": [],
   "source": [
    "%load_ext Cython"
   ]
  },
  {
   "cell_type": "code",
   "execution_count": 3,
   "metadata": {},
   "outputs": [
    {
     "name": "stdout",
     "output_type": "stream",
     "text": [
      "Warning: 82 (1.03 %) of 7947 users have no train items\n",
      "Warning: 2290 (28.82 %) of 7947 users have no sampled items\n"
     ]
    }
   ],
   "source": [
    "from Notebooks_utils.evaluation_function import evaluate_algorithm\n",
    "from Base.Similarity.Compute_Similarity_Python import Compute_Similarity_Python\n",
    "from Base.Evaluation.Evaluator import EvaluatorHoldout\n",
    "from Data_manager.split_functions.split_train_validation_random_holdout import split_train_in_two_percentage_global_sample\n",
    "\n",
    "URM_train, URM_valid = split_train_in_two_percentage_global_sample(URM_all, train_percentage = 0.80)"
   ]
  },
  {
   "cell_type": "code",
   "execution_count": 4,
   "metadata": {},
   "outputs": [],
   "source": [
    "from MatrixFactorization.NMFRecommender import NMFRecommender"
   ]
  },
  {
   "cell_type": "code",
   "execution_count": 5,
   "metadata": {},
   "outputs": [],
   "source": [
    "from ParameterTuning.run_parameter_search import runParameterSearch_Collaborative as paramSearch"
   ]
  },
  {
   "cell_type": "code",
   "execution_count": 6,
   "metadata": {},
   "outputs": [
    {
     "name": "stdout",
     "output_type": "stream",
     "text": [
      "Iteration No: 1 started. Evaluating function at random point.\n",
      "NMFRecommender: URM Detected 82 (1.03 %) cold users.\n",
      "NMFRecommender: URM Detected 2372 (9.13 %) cold items.\n",
      "SearchBayesianSkopt: Testing config: {'num_factors': 258, 'solver': 'multiplicative_update', 'init_type': 'nndsvda', 'beta_loss': 'frobenius'}\n",
      "NMFRecommender: Computing NMF decomposition...\n",
      "NMFRecommender: Computing NMF decomposition... Done!\n",
      "EvaluatorHoldout: Processed 5657 ( 100.00% ) in 13.18 sec. Users per second: 429\n",
      "SearchBayesianSkopt: New best config found. Config 0: {'num_factors': 258, 'solver': 'multiplicative_update', 'init_type': 'nndsvda', 'beta_loss': 'frobenius'} - results: ROC_AUC: 0.0954906, PRECISION: 0.0200283, PRECISION_RECALL_MIN_DEN: 0.0591915, RECALL: 0.0560944, MAP: 0.0249403, MRR: 0.0674869, NDCG: 0.0409037, F1: 0.0295175, HIT_RATE: 0.2002828, ARHR: 0.0764032, NOVELTY: 0.0046687, AVERAGE_POPULARITY: 0.0977836, DIVERSITY_MEAN_INTER_LIST: 0.9846607, DIVERSITY_HERFINDAHL: 0.9984487, COVERAGE_ITEM: 0.1659673, COVERAGE_ITEM_CORRECT: 0.0232531, COVERAGE_USER: 0.7118409, COVERAGE_USER_CORRECT: 0.1107336, DIVERSITY_GINI: 0.0389942, SHANNON_ENTROPY: 10.2493999, \n",
      "\n",
      "SearchBayesianSkopt: Saving model in result_experiments/NMFRecommender\n",
      "\n",
      "NMFRecommender: Saving model in file 'result_experiments/NMFRecommender_best_model'\n",
      "NMFRecommender: Saving complete\n",
      "Iteration No: 1 ended. Evaluation done at random point.\n",
      "Time taken: 197.1960\n",
      "Function value obtained: -0.0249\n",
      "Current minimum: -0.0249\n",
      "Iteration No: 2 started. Evaluating function at random point.\n",
      "NMFRecommender: URM Detected 82 (1.03 %) cold users.\n",
      "NMFRecommender: URM Detected 2372 (9.13 %) cold items.\n",
      "SearchBayesianSkopt: Testing config: {'num_factors': 149, 'solver': 'coordinate_descent', 'init_type': 'nndsvda', 'beta_loss': 'frobenius'}\n",
      "NMFRecommender: Computing NMF decomposition...\n",
      "NMFRecommender: Computing NMF decomposition... Done!\n",
      "EvaluatorHoldout: Processed 5657 ( 100.00% ) in 5.86 sec. Users per second: 966\n",
      "SearchBayesianSkopt: Config 1 is suboptimal. Config: {'num_factors': 149, 'solver': 'coordinate_descent', 'init_type': 'nndsvda', 'beta_loss': 'frobenius'} - results: ROC_AUC: 0.0912102, PRECISION: 0.0187202, PRECISION_RECALL_MIN_DEN: 0.0529870, RECALL: 0.0500413, MAP: 0.0234571, MRR: 0.0655329, NDCG: 0.0381067, F1: 0.0272473, HIT_RATE: 0.1872017, ARHR: 0.0743884, NOVELTY: 0.0045069, AVERAGE_POPULARITY: 0.1297704, DIVERSITY_MEAN_INTER_LIST: 0.9708221, DIVERSITY_HERFINDAHL: 0.9970650, COVERAGE_ITEM: 0.1200770, COVERAGE_ITEM_CORRECT: 0.0174398, COVERAGE_USER: 0.7118409, COVERAGE_USER_CORRECT: 0.1020511, DIVERSITY_GINI: 0.0233627, SHANNON_ENTROPY: 9.4456905, \n",
      "\n",
      "Iteration No: 2 ended. Evaluation done at random point.\n",
      "Time taken: 621.7736\n",
      "Function value obtained: -0.0235\n",
      "Current minimum: -0.0249\n",
      "Iteration No: 3 started. Evaluating function at random point.\n",
      "NMFRecommender: URM Detected 82 (1.03 %) cold users.\n",
      "NMFRecommender: URM Detected 2372 (9.13 %) cold items.\n",
      "SearchBayesianSkopt: Testing config: {'num_factors': 3, 'solver': 'multiplicative_update', 'init_type': 'nndsvda', 'beta_loss': 'frobenius'}\n",
      "NMFRecommender: Computing NMF decomposition...\n",
      "NMFRecommender: Computing NMF decomposition... Done!\n",
      "EvaluatorHoldout: Processed 5657 ( 100.00% ) in 5.44 sec. Users per second: 1041\n",
      "SearchBayesianSkopt: Config 2 is suboptimal. Config: {'num_factors': 3, 'solver': 'multiplicative_update', 'init_type': 'nndsvda', 'beta_loss': 'frobenius'} - results: ROC_AUC: 0.0413370, PRECISION: 0.0081138, PRECISION_RECALL_MIN_DEN: 0.0226276, RECALL: 0.0209192, MAP: 0.0095525, MRR: 0.0290639, NDCG: 0.0157442, F1: 0.0116925, HIT_RATE: 0.0811384, ARHR: 0.0314411, NOVELTY: 0.0038905, AVERAGE_POPULARITY: 0.3357331, DIVERSITY_MEAN_INTER_LIST: 0.5651192, DIVERSITY_HERFINDAHL: 0.9565019, COVERAGE_ITEM: 0.0039269, COVERAGE_ITEM_CORRECT: 0.0016939, COVERAGE_USER: 0.7118409, COVERAGE_USER_CORRECT: 0.0485718, DIVERSITY_GINI: 0.0008967, SHANNON_ENTROPY: 4.8959645, \n",
      "\n",
      "Iteration No: 3 ended. Evaluation done at random point.\n",
      "Time taken: 5.7028\n",
      "Function value obtained: -0.0096\n",
      "Current minimum: -0.0249\n",
      "Iteration No: 4 started. Evaluating function at random point.\n",
      "NMFRecommender: URM Detected 82 (1.03 %) cold users.\n",
      "NMFRecommender: URM Detected 2372 (9.13 %) cold items.\n",
      "SearchBayesianSkopt: Testing config: {'num_factors': 253, 'solver': 'coordinate_descent', 'init_type': 'random', 'beta_loss': 'kullback-leibler'}\n",
      "NMFRecommender: Computing NMF decomposition...\n",
      "SearchBayesianSkopt: Config 3 Exception. Config: {'num_factors': 253, 'solver': 'coordinate_descent', 'init_type': 'random', 'beta_loss': 'kullback-leibler'} - Exception: Traceback (most recent call last):\n",
      "  File \"/home/infamouskz/Projects2CourseWork/RecSys/RecSysCompetition/ParameterTuning/SearchAbstractClass.py\", line 362, in _objective_function\n",
      "    result_dict, result_string, recommender_instance, train_time, evaluation_time = self._evaluate_on_validation(current_fit_parameters_dict)\n",
      "  File \"/home/infamouskz/Projects2CourseWork/RecSys/RecSysCompetition/ParameterTuning/SearchAbstractClass.py\", line 267, in _evaluate_on_validation\n",
      "    recommender_instance, train_time = self._fit_model(current_fit_parameters)\n",
      "  File \"/home/infamouskz/Projects2CourseWork/RecSys/RecSysCompetition/ParameterTuning/SearchAbstractClass.py\", line 255, in _fit_model\n",
      "    recommender_instance.fit(*self.recommender_input_args.FIT_POSITIONAL_ARGS,\n",
      "  File \"/home/infamouskz/Projects2CourseWork/RecSys/RecSysCompetition/MatrixFactorization/NMFRecommender.py\", line 68, in fit\n",
      "    nmf_solver.fit(self.URM_train)\n",
      "  File \"/home/infamouskz/anaconda3/lib/python3.8/site-packages/sklearn/decomposition/_nmf.py\", line 1314, in fit\n",
      "    self.fit_transform(X, **params)\n",
      "  File \"/home/infamouskz/anaconda3/lib/python3.8/site-packages/sklearn/decomposition/_nmf.py\", line 1283, in fit_transform\n",
      "    W, H, n_iter_ = non_negative_factorization(\n",
      "  File \"/home/infamouskz/anaconda3/lib/python3.8/site-packages/sklearn/utils/validation.py\", line 73, in inner_f\n",
      "    return f(**kwargs)\n",
      "  File \"/home/infamouskz/anaconda3/lib/python3.8/site-packages/sklearn/decomposition/_nmf.py\", line 1011, in non_negative_factorization\n",
      "    beta_loss = _check_string_param(solver, regularization, beta_loss, init)\n",
      "  File \"/home/infamouskz/anaconda3/lib/python3.8/site-packages/sklearn/decomposition/_nmf.py\", line 220, in _check_string_param\n",
      "    raise ValueError(\n",
      "ValueError: Invalid beta_loss parameter: solver 'cd' does not handle beta_loss = 'kullback-leibler'\n",
      "\n",
      "\n",
      "Iteration No: 4 ended. Evaluation done at random point.\n",
      "Time taken: 0.0669\n",
      "Function value obtained: 65504.0000\n",
      "Current minimum: -0.0249\n",
      "Iteration No: 5 started. Evaluating function at random point.\n",
      "NMFRecommender: URM Detected 82 (1.03 %) cold users.\n",
      "NMFRecommender: URM Detected 2372 (9.13 %) cold items.\n",
      "SearchBayesianSkopt: Testing config: {'num_factors': 264, 'solver': 'multiplicative_update', 'init_type': 'random', 'beta_loss': 'frobenius'}\n",
      "NMFRecommender: Computing NMF decomposition...\n"
     ]
    },
    {
     "name": "stderr",
     "output_type": "stream",
     "text": [
      "Traceback (most recent call last):\n",
      "  File \"/home/infamouskz/Projects2CourseWork/RecSys/RecSysCompetition/ParameterTuning/SearchAbstractClass.py\", line 362, in _objective_function\n",
      "    result_dict, result_string, recommender_instance, train_time, evaluation_time = self._evaluate_on_validation(current_fit_parameters_dict)\n",
      "  File \"/home/infamouskz/Projects2CourseWork/RecSys/RecSysCompetition/ParameterTuning/SearchAbstractClass.py\", line 267, in _evaluate_on_validation\n",
      "    recommender_instance, train_time = self._fit_model(current_fit_parameters)\n",
      "  File \"/home/infamouskz/Projects2CourseWork/RecSys/RecSysCompetition/ParameterTuning/SearchAbstractClass.py\", line 255, in _fit_model\n",
      "    recommender_instance.fit(*self.recommender_input_args.FIT_POSITIONAL_ARGS,\n",
      "  File \"/home/infamouskz/Projects2CourseWork/RecSys/RecSysCompetition/MatrixFactorization/NMFRecommender.py\", line 68, in fit\n",
      "    nmf_solver.fit(self.URM_train)\n",
      "  File \"/home/infamouskz/anaconda3/lib/python3.8/site-packages/sklearn/decomposition/_nmf.py\", line 1314, in fit\n",
      "    self.fit_transform(X, **params)\n",
      "  File \"/home/infamouskz/anaconda3/lib/python3.8/site-packages/sklearn/decomposition/_nmf.py\", line 1283, in fit_transform\n",
      "    W, H, n_iter_ = non_negative_factorization(\n",
      "  File \"/home/infamouskz/anaconda3/lib/python3.8/site-packages/sklearn/utils/validation.py\", line 73, in inner_f\n",
      "    return f(**kwargs)\n",
      "  File \"/home/infamouskz/anaconda3/lib/python3.8/site-packages/sklearn/decomposition/_nmf.py\", line 1011, in non_negative_factorization\n",
      "    beta_loss = _check_string_param(solver, regularization, beta_loss, init)\n",
      "  File \"/home/infamouskz/anaconda3/lib/python3.8/site-packages/sklearn/decomposition/_nmf.py\", line 220, in _check_string_param\n",
      "    raise ValueError(\n",
      "ValueError: Invalid beta_loss parameter: solver 'cd' does not handle beta_loss = 'kullback-leibler'\n",
      "/home/infamouskz/anaconda3/lib/python3.8/site-packages/sklearn/decomposition/_nmf.py:700: RuntimeWarning: overflow encountered in true_divide\n",
      "  numerator /= denominator\n",
      "/home/infamouskz/anaconda3/lib/python3.8/site-packages/sklearn/decomposition/_nmf.py:813: RuntimeWarning: invalid value encountered in multiply\n",
      "  H *= delta_H\n",
      "/home/infamouskz/anaconda3/lib/python3.8/site-packages/sklearn/decomposition/_nmf.py:1076: ConvergenceWarning: Maximum number of iterations 500 reached. Increase it to improve convergence.\n",
      "  warnings.warn(\"Maximum number of iterations %d reached. Increase it to\"\n",
      "Traceback (most recent call last):\n",
      "  File \"/home/infamouskz/Projects2CourseWork/RecSys/RecSysCompetition/ParameterTuning/SearchAbstractClass.py\", line 362, in _objective_function\n",
      "    result_dict, result_string, recommender_instance, train_time, evaluation_time = self._evaluate_on_validation(current_fit_parameters_dict)\n",
      "  File \"/home/infamouskz/Projects2CourseWork/RecSys/RecSysCompetition/ParameterTuning/SearchAbstractClass.py\", line 267, in _evaluate_on_validation\n",
      "    recommender_instance, train_time = self._fit_model(current_fit_parameters)\n",
      "  File \"/home/infamouskz/Projects2CourseWork/RecSys/RecSysCompetition/ParameterTuning/SearchAbstractClass.py\", line 255, in _fit_model\n",
      "    recommender_instance.fit(*self.recommender_input_args.FIT_POSITIONAL_ARGS,\n",
      "  File \"/home/infamouskz/Projects2CourseWork/RecSys/RecSysCompetition/MatrixFactorization/NMFRecommender.py\", line 71, in fit\n",
      "    self.USER_factors = nmf_solver.transform(self.URM_train)\n",
      "  File \"/home/infamouskz/anaconda3/lib/python3.8/site-packages/sklearn/decomposition/_nmf.py\", line 1332, in transform\n",
      "    W, _, n_iter_ = non_negative_factorization(\n",
      "  File \"/home/infamouskz/anaconda3/lib/python3.8/site-packages/sklearn/utils/validation.py\", line 73, in inner_f\n",
      "    return f(**kwargs)\n",
      "  File \"/home/infamouskz/anaconda3/lib/python3.8/site-packages/sklearn/decomposition/_nmf.py\", line 1041, in non_negative_factorization\n",
      "    _check_init(H, (n_components, n_features), \"NMF (input H)\")\n",
      "  File \"/home/infamouskz/anaconda3/lib/python3.8/site-packages/sklearn/decomposition/_nmf.py\", line 54, in _check_init\n",
      "    A = check_array(A)\n",
      "  File \"/home/infamouskz/anaconda3/lib/python3.8/site-packages/sklearn/utils/validation.py\", line 73, in inner_f\n",
      "    return f(**kwargs)\n",
      "  File \"/home/infamouskz/anaconda3/lib/python3.8/site-packages/sklearn/utils/validation.py\", line 645, in check_array\n",
      "    _assert_all_finite(array,\n",
      "  File \"/home/infamouskz/anaconda3/lib/python3.8/site-packages/sklearn/utils/validation.py\", line 97, in _assert_all_finite\n",
      "    raise ValueError(\n",
      "ValueError: Input contains NaN, infinity or a value too large for dtype('float32').\n"
     ]
    },
    {
     "name": "stdout",
     "output_type": "stream",
     "text": [
      "SearchBayesianSkopt: Config 4 Exception. Config: {'num_factors': 264, 'solver': 'multiplicative_update', 'init_type': 'random', 'beta_loss': 'frobenius'} - Exception: Traceback (most recent call last):\n",
      "  File \"/home/infamouskz/Projects2CourseWork/RecSys/RecSysCompetition/ParameterTuning/SearchAbstractClass.py\", line 362, in _objective_function\n",
      "    result_dict, result_string, recommender_instance, train_time, evaluation_time = self._evaluate_on_validation(current_fit_parameters_dict)\n",
      "  File \"/home/infamouskz/Projects2CourseWork/RecSys/RecSysCompetition/ParameterTuning/SearchAbstractClass.py\", line 267, in _evaluate_on_validation\n",
      "    recommender_instance, train_time = self._fit_model(current_fit_parameters)\n",
      "  File \"/home/infamouskz/Projects2CourseWork/RecSys/RecSysCompetition/ParameterTuning/SearchAbstractClass.py\", line 255, in _fit_model\n",
      "    recommender_instance.fit(*self.recommender_input_args.FIT_POSITIONAL_ARGS,\n",
      "  File \"/home/infamouskz/Projects2CourseWork/RecSys/RecSysCompetition/MatrixFactorization/NMFRecommender.py\", line 71, in fit\n",
      "    self.USER_factors = nmf_solver.transform(self.URM_train)\n",
      "  File \"/home/infamouskz/anaconda3/lib/python3.8/site-packages/sklearn/decomposition/_nmf.py\", line 1332, in transform\n",
      "    W, _, n_iter_ = non_negative_factorization(\n",
      "  File \"/home/infamouskz/anaconda3/lib/python3.8/site-packages/sklearn/utils/validation.py\", line 73, in inner_f\n",
      "    return f(**kwargs)\n",
      "  File \"/home/infamouskz/anaconda3/lib/python3.8/site-packages/sklearn/decomposition/_nmf.py\", line 1041, in non_negative_factorization\n",
      "    _check_init(H, (n_components, n_features), \"NMF (input H)\")\n",
      "  File \"/home/infamouskz/anaconda3/lib/python3.8/site-packages/sklearn/decomposition/_nmf.py\", line 54, in _check_init\n",
      "    A = check_array(A)\n",
      "  File \"/home/infamouskz/anaconda3/lib/python3.8/site-packages/sklearn/utils/validation.py\", line 73, in inner_f\n",
      "    return f(**kwargs)\n",
      "  File \"/home/infamouskz/anaconda3/lib/python3.8/site-packages/sklearn/utils/validation.py\", line 645, in check_array\n",
      "    _assert_all_finite(array,\n",
      "  File \"/home/infamouskz/anaconda3/lib/python3.8/site-packages/sklearn/utils/validation.py\", line 97, in _assert_all_finite\n",
      "    raise ValueError(\n",
      "ValueError: Input contains NaN, infinity or a value too large for dtype('float32').\n",
      "\n",
      "\n",
      "Iteration No: 5 ended. Evaluation done at random point.\n",
      "Time taken: 157.6526\n",
      "Function value obtained: 65504.0000\n",
      "Current minimum: -0.0249\n",
      "Iteration No: 6 started. Searching for the next optimal point.\n",
      "NMFRecommender: URM Detected 82 (1.03 %) cold users.\n",
      "NMFRecommender: URM Detected 2372 (9.13 %) cold items.\n",
      "SearchBayesianSkopt: Testing config: {'num_factors': 350, 'solver': 'coordinate_descent', 'init_type': 'nndsvda', 'beta_loss': 'kullback-leibler'}\n",
      "NMFRecommender: Computing NMF decomposition...\n",
      "SearchBayesianSkopt: Config 5 Exception. Config: {'num_factors': 350, 'solver': 'coordinate_descent', 'init_type': 'nndsvda', 'beta_loss': 'kullback-leibler'} - Exception: Traceback (most recent call last):\n",
      "  File \"/home/infamouskz/Projects2CourseWork/RecSys/RecSysCompetition/ParameterTuning/SearchAbstractClass.py\", line 362, in _objective_function\n",
      "    result_dict, result_string, recommender_instance, train_time, evaluation_time = self._evaluate_on_validation(current_fit_parameters_dict)\n",
      "  File \"/home/infamouskz/Projects2CourseWork/RecSys/RecSysCompetition/ParameterTuning/SearchAbstractClass.py\", line 267, in _evaluate_on_validation\n",
      "    recommender_instance, train_time = self._fit_model(current_fit_parameters)\n",
      "  File \"/home/infamouskz/Projects2CourseWork/RecSys/RecSysCompetition/ParameterTuning/SearchAbstractClass.py\", line 255, in _fit_model\n",
      "    recommender_instance.fit(*self.recommender_input_args.FIT_POSITIONAL_ARGS,\n",
      "  File \"/home/infamouskz/Projects2CourseWork/RecSys/RecSysCompetition/MatrixFactorization/NMFRecommender.py\", line 68, in fit\n",
      "    nmf_solver.fit(self.URM_train)\n",
      "  File \"/home/infamouskz/anaconda3/lib/python3.8/site-packages/sklearn/decomposition/_nmf.py\", line 1314, in fit\n",
      "    self.fit_transform(X, **params)\n",
      "  File \"/home/infamouskz/anaconda3/lib/python3.8/site-packages/sklearn/decomposition/_nmf.py\", line 1283, in fit_transform\n",
      "    W, H, n_iter_ = non_negative_factorization(\n",
      "  File \"/home/infamouskz/anaconda3/lib/python3.8/site-packages/sklearn/utils/validation.py\", line 73, in inner_f\n",
      "    return f(**kwargs)\n",
      "  File \"/home/infamouskz/anaconda3/lib/python3.8/site-packages/sklearn/decomposition/_nmf.py\", line 1011, in non_negative_factorization\n",
      "    beta_loss = _check_string_param(solver, regularization, beta_loss, init)\n",
      "  File \"/home/infamouskz/anaconda3/lib/python3.8/site-packages/sklearn/decomposition/_nmf.py\", line 220, in _check_string_param\n",
      "    raise ValueError(\n",
      "ValueError: Invalid beta_loss parameter: solver 'cd' does not handle beta_loss = 'kullback-leibler'\n",
      "\n",
      "\n"
     ]
    },
    {
     "name": "stderr",
     "output_type": "stream",
     "text": [
      "Traceback (most recent call last):\n",
      "  File \"/home/infamouskz/Projects2CourseWork/RecSys/RecSysCompetition/ParameterTuning/SearchAbstractClass.py\", line 362, in _objective_function\n",
      "    result_dict, result_string, recommender_instance, train_time, evaluation_time = self._evaluate_on_validation(current_fit_parameters_dict)\n",
      "  File \"/home/infamouskz/Projects2CourseWork/RecSys/RecSysCompetition/ParameterTuning/SearchAbstractClass.py\", line 267, in _evaluate_on_validation\n",
      "    recommender_instance, train_time = self._fit_model(current_fit_parameters)\n",
      "  File \"/home/infamouskz/Projects2CourseWork/RecSys/RecSysCompetition/ParameterTuning/SearchAbstractClass.py\", line 255, in _fit_model\n",
      "    recommender_instance.fit(*self.recommender_input_args.FIT_POSITIONAL_ARGS,\n",
      "  File \"/home/infamouskz/Projects2CourseWork/RecSys/RecSysCompetition/MatrixFactorization/NMFRecommender.py\", line 68, in fit\n",
      "    nmf_solver.fit(self.URM_train)\n",
      "  File \"/home/infamouskz/anaconda3/lib/python3.8/site-packages/sklearn/decomposition/_nmf.py\", line 1314, in fit\n",
      "    self.fit_transform(X, **params)\n",
      "  File \"/home/infamouskz/anaconda3/lib/python3.8/site-packages/sklearn/decomposition/_nmf.py\", line 1283, in fit_transform\n",
      "    W, H, n_iter_ = non_negative_factorization(\n",
      "  File \"/home/infamouskz/anaconda3/lib/python3.8/site-packages/sklearn/utils/validation.py\", line 73, in inner_f\n",
      "    return f(**kwargs)\n",
      "  File \"/home/infamouskz/anaconda3/lib/python3.8/site-packages/sklearn/decomposition/_nmf.py\", line 1011, in non_negative_factorization\n",
      "    beta_loss = _check_string_param(solver, regularization, beta_loss, init)\n",
      "  File \"/home/infamouskz/anaconda3/lib/python3.8/site-packages/sklearn/decomposition/_nmf.py\", line 220, in _check_string_param\n",
      "    raise ValueError(\n",
      "ValueError: Invalid beta_loss parameter: solver 'cd' does not handle beta_loss = 'kullback-leibler'\n"
     ]
    },
    {
     "name": "stdout",
     "output_type": "stream",
     "text": [
      "Iteration No: 6 ended. Search finished for the next optimal point.\n",
      "Time taken: 0.4978\n",
      "Function value obtained: 65504.0000\n",
      "Current minimum: -0.0249\n",
      "Iteration No: 7 started. Searching for the next optimal point.\n",
      "NMFRecommender: URM Detected 82 (1.03 %) cold users.\n",
      "NMFRecommender: URM Detected 2372 (9.13 %) cold items.\n",
      "SearchBayesianSkopt: Testing config: {'num_factors': 136, 'solver': 'multiplicative_update', 'init_type': 'nndsvda', 'beta_loss': 'frobenius'}\n",
      "NMFRecommender: Computing NMF decomposition...\n"
     ]
    },
    {
     "name": "stderr",
     "output_type": "stream",
     "text": [
      "/home/infamouskz/anaconda3/lib/python3.8/site-packages/sklearn/decomposition/_nmf.py:618: RuntimeWarning: overflow encountered in true_divide\n",
      "  numerator /= denominator\n",
      "/home/infamouskz/anaconda3/lib/python3.8/site-packages/sklearn/decomposition/_nmf.py:803: RuntimeWarning: invalid value encountered in multiply\n",
      "  W *= delta_W\n",
      "/home/infamouskz/anaconda3/lib/python3.8/site-packages/sklearn/decomposition/_nmf.py:1076: ConvergenceWarning: Maximum number of iterations 500 reached. Increase it to improve convergence.\n",
      "  warnings.warn(\"Maximum number of iterations %d reached. Increase it to\"\n",
      "Traceback (most recent call last):\n",
      "  File \"/home/infamouskz/Projects2CourseWork/RecSys/RecSysCompetition/ParameterTuning/SearchAbstractClass.py\", line 362, in _objective_function\n",
      "    result_dict, result_string, recommender_instance, train_time, evaluation_time = self._evaluate_on_validation(current_fit_parameters_dict)\n",
      "  File \"/home/infamouskz/Projects2CourseWork/RecSys/RecSysCompetition/ParameterTuning/SearchAbstractClass.py\", line 267, in _evaluate_on_validation\n",
      "    recommender_instance, train_time = self._fit_model(current_fit_parameters)\n",
      "  File \"/home/infamouskz/Projects2CourseWork/RecSys/RecSysCompetition/ParameterTuning/SearchAbstractClass.py\", line 255, in _fit_model\n",
      "    recommender_instance.fit(*self.recommender_input_args.FIT_POSITIONAL_ARGS,\n",
      "  File \"/home/infamouskz/Projects2CourseWork/RecSys/RecSysCompetition/MatrixFactorization/NMFRecommender.py\", line 71, in fit\n",
      "    self.USER_factors = nmf_solver.transform(self.URM_train)\n",
      "  File \"/home/infamouskz/anaconda3/lib/python3.8/site-packages/sklearn/decomposition/_nmf.py\", line 1332, in transform\n",
      "    W, _, n_iter_ = non_negative_factorization(\n",
      "  File \"/home/infamouskz/anaconda3/lib/python3.8/site-packages/sklearn/utils/validation.py\", line 73, in inner_f\n",
      "    return f(**kwargs)\n",
      "  File \"/home/infamouskz/anaconda3/lib/python3.8/site-packages/sklearn/decomposition/_nmf.py\", line 1041, in non_negative_factorization\n",
      "    _check_init(H, (n_components, n_features), \"NMF (input H)\")\n",
      "  File \"/home/infamouskz/anaconda3/lib/python3.8/site-packages/sklearn/decomposition/_nmf.py\", line 54, in _check_init\n",
      "    A = check_array(A)\n",
      "  File \"/home/infamouskz/anaconda3/lib/python3.8/site-packages/sklearn/utils/validation.py\", line 73, in inner_f\n",
      "    return f(**kwargs)\n",
      "  File \"/home/infamouskz/anaconda3/lib/python3.8/site-packages/sklearn/utils/validation.py\", line 645, in check_array\n",
      "    _assert_all_finite(array,\n",
      "  File \"/home/infamouskz/anaconda3/lib/python3.8/site-packages/sklearn/utils/validation.py\", line 97, in _assert_all_finite\n",
      "    raise ValueError(\n",
      "ValueError: Input contains NaN, infinity or a value too large for dtype('float32').\n"
     ]
    },
    {
     "name": "stdout",
     "output_type": "stream",
     "text": [
      "SearchBayesianSkopt: Config 6 Exception. Config: {'num_factors': 136, 'solver': 'multiplicative_update', 'init_type': 'nndsvda', 'beta_loss': 'frobenius'} - Exception: Traceback (most recent call last):\n",
      "  File \"/home/infamouskz/Projects2CourseWork/RecSys/RecSysCompetition/ParameterTuning/SearchAbstractClass.py\", line 362, in _objective_function\n",
      "    result_dict, result_string, recommender_instance, train_time, evaluation_time = self._evaluate_on_validation(current_fit_parameters_dict)\n",
      "  File \"/home/infamouskz/Projects2CourseWork/RecSys/RecSysCompetition/ParameterTuning/SearchAbstractClass.py\", line 267, in _evaluate_on_validation\n",
      "    recommender_instance, train_time = self._fit_model(current_fit_parameters)\n",
      "  File \"/home/infamouskz/Projects2CourseWork/RecSys/RecSysCompetition/ParameterTuning/SearchAbstractClass.py\", line 255, in _fit_model\n",
      "    recommender_instance.fit(*self.recommender_input_args.FIT_POSITIONAL_ARGS,\n",
      "  File \"/home/infamouskz/Projects2CourseWork/RecSys/RecSysCompetition/MatrixFactorization/NMFRecommender.py\", line 71, in fit\n",
      "    self.USER_factors = nmf_solver.transform(self.URM_train)\n",
      "  File \"/home/infamouskz/anaconda3/lib/python3.8/site-packages/sklearn/decomposition/_nmf.py\", line 1332, in transform\n",
      "    W, _, n_iter_ = non_negative_factorization(\n",
      "  File \"/home/infamouskz/anaconda3/lib/python3.8/site-packages/sklearn/utils/validation.py\", line 73, in inner_f\n",
      "    return f(**kwargs)\n",
      "  File \"/home/infamouskz/anaconda3/lib/python3.8/site-packages/sklearn/decomposition/_nmf.py\", line 1041, in non_negative_factorization\n",
      "    _check_init(H, (n_components, n_features), \"NMF (input H)\")\n",
      "  File \"/home/infamouskz/anaconda3/lib/python3.8/site-packages/sklearn/decomposition/_nmf.py\", line 54, in _check_init\n",
      "    A = check_array(A)\n",
      "  File \"/home/infamouskz/anaconda3/lib/python3.8/site-packages/sklearn/utils/validation.py\", line 73, in inner_f\n",
      "    return f(**kwargs)\n",
      "  File \"/home/infamouskz/anaconda3/lib/python3.8/site-packages/sklearn/utils/validation.py\", line 645, in check_array\n",
      "    _assert_all_finite(array,\n",
      "  File \"/home/infamouskz/anaconda3/lib/python3.8/site-packages/sklearn/utils/validation.py\", line 97, in _assert_all_finite\n",
      "    raise ValueError(\n",
      "ValueError: Input contains NaN, infinity or a value too large for dtype('float32').\n",
      "\n",
      "\n",
      "Iteration No: 7 ended. Search finished for the next optimal point.\n",
      "Time taken: 68.3277\n",
      "Function value obtained: 65504.0000\n",
      "Current minimum: -0.0249\n",
      "Iteration No: 8 started. Searching for the next optimal point.\n",
      "NMFRecommender: URM Detected 82 (1.03 %) cold users.\n",
      "NMFRecommender: URM Detected 2372 (9.13 %) cold items.\n",
      "SearchBayesianSkopt: Testing config: {'num_factors': 258, 'solver': 'multiplicative_update', 'init_type': 'nndsvda', 'beta_loss': 'frobenius'}\n",
      "NMFRecommender: Computing NMF decomposition...\n"
     ]
    },
    {
     "name": "stderr",
     "output_type": "stream",
     "text": [
      "/home/infamouskz/anaconda3/lib/python3.8/site-packages/skopt/optimizer/optimizer.py:449: UserWarning: The objective has been evaluated at this point before.\n",
      "  warnings.warn(\"The objective has been evaluated \"\n",
      "/home/infamouskz/anaconda3/lib/python3.8/site-packages/sklearn/decomposition/_nmf.py:700: RuntimeWarning: overflow encountered in true_divide\n",
      "  numerator /= denominator\n",
      "/home/infamouskz/anaconda3/lib/python3.8/site-packages/sklearn/decomposition/_nmf.py:813: RuntimeWarning: invalid value encountered in multiply\n",
      "  H *= delta_H\n",
      "/home/infamouskz/anaconda3/lib/python3.8/site-packages/sklearn/decomposition/_nmf.py:1076: ConvergenceWarning: Maximum number of iterations 500 reached. Increase it to improve convergence.\n",
      "  warnings.warn(\"Maximum number of iterations %d reached. Increase it to\"\n",
      "Traceback (most recent call last):\n",
      "  File \"/home/infamouskz/Projects2CourseWork/RecSys/RecSysCompetition/ParameterTuning/SearchAbstractClass.py\", line 362, in _objective_function\n",
      "    result_dict, result_string, recommender_instance, train_time, evaluation_time = self._evaluate_on_validation(current_fit_parameters_dict)\n",
      "  File \"/home/infamouskz/Projects2CourseWork/RecSys/RecSysCompetition/ParameterTuning/SearchAbstractClass.py\", line 267, in _evaluate_on_validation\n",
      "    recommender_instance, train_time = self._fit_model(current_fit_parameters)\n",
      "  File \"/home/infamouskz/Projects2CourseWork/RecSys/RecSysCompetition/ParameterTuning/SearchAbstractClass.py\", line 255, in _fit_model\n",
      "    recommender_instance.fit(*self.recommender_input_args.FIT_POSITIONAL_ARGS,\n",
      "  File \"/home/infamouskz/Projects2CourseWork/RecSys/RecSysCompetition/MatrixFactorization/NMFRecommender.py\", line 71, in fit\n",
      "    self.USER_factors = nmf_solver.transform(self.URM_train)\n",
      "  File \"/home/infamouskz/anaconda3/lib/python3.8/site-packages/sklearn/decomposition/_nmf.py\", line 1332, in transform\n",
      "    W, _, n_iter_ = non_negative_factorization(\n",
      "  File \"/home/infamouskz/anaconda3/lib/python3.8/site-packages/sklearn/utils/validation.py\", line 73, in inner_f\n",
      "    return f(**kwargs)\n",
      "  File \"/home/infamouskz/anaconda3/lib/python3.8/site-packages/sklearn/decomposition/_nmf.py\", line 1041, in non_negative_factorization\n",
      "    _check_init(H, (n_components, n_features), \"NMF (input H)\")\n",
      "  File \"/home/infamouskz/anaconda3/lib/python3.8/site-packages/sklearn/decomposition/_nmf.py\", line 54, in _check_init\n",
      "    A = check_array(A)\n",
      "  File \"/home/infamouskz/anaconda3/lib/python3.8/site-packages/sklearn/utils/validation.py\", line 73, in inner_f\n",
      "    return f(**kwargs)\n",
      "  File \"/home/infamouskz/anaconda3/lib/python3.8/site-packages/sklearn/utils/validation.py\", line 645, in check_array\n",
      "    _assert_all_finite(array,\n",
      "  File \"/home/infamouskz/anaconda3/lib/python3.8/site-packages/sklearn/utils/validation.py\", line 97, in _assert_all_finite\n",
      "    raise ValueError(\n",
      "ValueError: Input contains NaN, infinity or a value too large for dtype('float32').\n"
     ]
    },
    {
     "name": "stdout",
     "output_type": "stream",
     "text": [
      "SearchBayesianSkopt: Config 7 Exception. Config: {'num_factors': 258, 'solver': 'multiplicative_update', 'init_type': 'nndsvda', 'beta_loss': 'frobenius'} - Exception: Traceback (most recent call last):\n",
      "  File \"/home/infamouskz/Projects2CourseWork/RecSys/RecSysCompetition/ParameterTuning/SearchAbstractClass.py\", line 362, in _objective_function\n",
      "    result_dict, result_string, recommender_instance, train_time, evaluation_time = self._evaluate_on_validation(current_fit_parameters_dict)\n",
      "  File \"/home/infamouskz/Projects2CourseWork/RecSys/RecSysCompetition/ParameterTuning/SearchAbstractClass.py\", line 267, in _evaluate_on_validation\n",
      "    recommender_instance, train_time = self._fit_model(current_fit_parameters)\n",
      "  File \"/home/infamouskz/Projects2CourseWork/RecSys/RecSysCompetition/ParameterTuning/SearchAbstractClass.py\", line 255, in _fit_model\n",
      "    recommender_instance.fit(*self.recommender_input_args.FIT_POSITIONAL_ARGS,\n",
      "  File \"/home/infamouskz/Projects2CourseWork/RecSys/RecSysCompetition/MatrixFactorization/NMFRecommender.py\", line 71, in fit\n",
      "    self.USER_factors = nmf_solver.transform(self.URM_train)\n",
      "  File \"/home/infamouskz/anaconda3/lib/python3.8/site-packages/sklearn/decomposition/_nmf.py\", line 1332, in transform\n",
      "    W, _, n_iter_ = non_negative_factorization(\n",
      "  File \"/home/infamouskz/anaconda3/lib/python3.8/site-packages/sklearn/utils/validation.py\", line 73, in inner_f\n",
      "    return f(**kwargs)\n",
      "  File \"/home/infamouskz/anaconda3/lib/python3.8/site-packages/sklearn/decomposition/_nmf.py\", line 1041, in non_negative_factorization\n",
      "    _check_init(H, (n_components, n_features), \"NMF (input H)\")\n",
      "  File \"/home/infamouskz/anaconda3/lib/python3.8/site-packages/sklearn/decomposition/_nmf.py\", line 54, in _check_init\n",
      "    A = check_array(A)\n",
      "  File \"/home/infamouskz/anaconda3/lib/python3.8/site-packages/sklearn/utils/validation.py\", line 73, in inner_f\n",
      "    return f(**kwargs)\n",
      "  File \"/home/infamouskz/anaconda3/lib/python3.8/site-packages/sklearn/utils/validation.py\", line 645, in check_array\n",
      "    _assert_all_finite(array,\n",
      "  File \"/home/infamouskz/anaconda3/lib/python3.8/site-packages/sklearn/utils/validation.py\", line 97, in _assert_all_finite\n",
      "    raise ValueError(\n",
      "ValueError: Input contains NaN, infinity or a value too large for dtype('float32').\n",
      "\n",
      "\n",
      "Iteration No: 8 ended. Search finished for the next optimal point.\n",
      "Time taken: 165.0789\n",
      "Function value obtained: 65504.0000\n",
      "Current minimum: -0.0249\n",
      "Iteration No: 9 started. Searching for the next optimal point.\n",
      "NMFRecommender: URM Detected 82 (1.03 %) cold users.\n",
      "NMFRecommender: URM Detected 2372 (9.13 %) cold items.\n",
      "SearchBayesianSkopt: Testing config: {'num_factors': 149, 'solver': 'coordinate_descent', 'init_type': 'nndsvda', 'beta_loss': 'frobenius'}\n",
      "NMFRecommender: Computing NMF decomposition...\n"
     ]
    },
    {
     "name": "stderr",
     "output_type": "stream",
     "text": [
      "/home/infamouskz/anaconda3/lib/python3.8/site-packages/skopt/optimizer/optimizer.py:449: UserWarning: The objective has been evaluated at this point before.\n",
      "  warnings.warn(\"The objective has been evaluated \"\n"
     ]
    },
    {
     "name": "stdout",
     "output_type": "stream",
     "text": [
      "NMFRecommender: Computing NMF decomposition... Done!\n",
      "EvaluatorHoldout: Processed 5657 ( 100.00% ) in 7.51 sec. Users per second: 753\n",
      "SearchBayesianSkopt: Config 8 is suboptimal. Config: {'num_factors': 149, 'solver': 'coordinate_descent', 'init_type': 'nndsvda', 'beta_loss': 'frobenius'} - results: ROC_AUC: 0.0899717, PRECISION: 0.0191621, PRECISION_RECALL_MIN_DEN: 0.0524882, RECALL: 0.0494642, MAP: 0.0228290, MRR: 0.0642130, NDCG: 0.0375176, F1: 0.0276232, HIT_RATE: 0.1916210, ARHR: 0.0743769, NOVELTY: 0.0045029, AVERAGE_POPULARITY: 0.1279018, DIVERSITY_MEAN_INTER_LIST: 0.9717144, DIVERSITY_HERFINDAHL: 0.9971543, COVERAGE_ITEM: 0.1187295, COVERAGE_ITEM_CORRECT: 0.0180558, COVERAGE_USER: 0.7118409, COVERAGE_USER_CORRECT: 0.1019253, DIVERSITY_GINI: 0.0229122, SHANNON_ENTROPY: 9.4364384, \n",
      "\n",
      "Iteration No: 9 ended. Search finished for the next optimal point.\n",
      "Time taken: 307.5591\n",
      "Function value obtained: -0.0228\n",
      "Current minimum: -0.0249\n",
      "Iteration No: 10 started. Searching for the next optimal point.\n",
      "NMFRecommender: URM Detected 82 (1.03 %) cold users.\n",
      "NMFRecommender: URM Detected 2372 (9.13 %) cold items.\n",
      "SearchBayesianSkopt: Testing config: {'num_factors': 149, 'solver': 'coordinate_descent', 'init_type': 'nndsvda', 'beta_loss': 'frobenius'}\n",
      "NMFRecommender: Computing NMF decomposition...\n"
     ]
    },
    {
     "name": "stderr",
     "output_type": "stream",
     "text": [
      "/home/infamouskz/anaconda3/lib/python3.8/site-packages/skopt/optimizer/optimizer.py:449: UserWarning: The objective has been evaluated at this point before.\n",
      "  warnings.warn(\"The objective has been evaluated \"\n"
     ]
    },
    {
     "name": "stdout",
     "output_type": "stream",
     "text": [
      "NMFRecommender: Computing NMF decomposition... Done!\n",
      "EvaluatorHoldout: Processed 5657 ( 100.00% ) in 7.15 sec. Users per second: 791\n",
      "SearchBayesianSkopt: Config 9 is suboptimal. Config: {'num_factors': 149, 'solver': 'coordinate_descent', 'init_type': 'nndsvda', 'beta_loss': 'frobenius'} - results: ROC_AUC: 0.0871589, PRECISION: 0.0183136, PRECISION_RECALL_MIN_DEN: 0.0512009, RECALL: 0.0484155, MAP: 0.0225217, MRR: 0.0621430, NDCG: 0.0367344, F1: 0.0265750, HIT_RATE: 0.1831359, ARHR: 0.0717768, NOVELTY: 0.0044957, AVERAGE_POPULARITY: 0.1303982, DIVERSITY_MEAN_INTER_LIST: 0.9693766, DIVERSITY_HERFINDAHL: 0.9969205, COVERAGE_ITEM: 0.1175361, COVERAGE_ITEM_CORRECT: 0.0163619, COVERAGE_USER: 0.7118409, COVERAGE_USER_CORRECT: 0.0981502, DIVERSITY_GINI: 0.0224774, SHANNON_ENTROPY: 9.3806856, \n",
      "\n",
      "Iteration No: 10 ended. Search finished for the next optimal point.\n",
      "Time taken: 395.4601\n",
      "Function value obtained: -0.0225\n",
      "Current minimum: -0.0249\n",
      "Iteration No: 11 started. Searching for the next optimal point.\n",
      "NMFRecommender: URM Detected 82 (1.03 %) cold users.\n",
      "NMFRecommender: URM Detected 2372 (9.13 %) cold items.\n",
      "SearchBayesianSkopt: Testing config: {'num_factors': 149, 'solver': 'coordinate_descent', 'init_type': 'nndsvda', 'beta_loss': 'frobenius'}\n",
      "NMFRecommender: Computing NMF decomposition...\n"
     ]
    },
    {
     "name": "stderr",
     "output_type": "stream",
     "text": [
      "/home/infamouskz/anaconda3/lib/python3.8/site-packages/skopt/optimizer/optimizer.py:449: UserWarning: The objective has been evaluated at this point before.\n",
      "  warnings.warn(\"The objective has been evaluated \"\n",
      "/home/infamouskz/anaconda3/lib/python3.8/site-packages/sklearn/decomposition/_nmf.py:1076: ConvergenceWarning: Maximum number of iterations 500 reached. Increase it to improve convergence.\n",
      "  warnings.warn(\"Maximum number of iterations %d reached. Increase it to\"\n"
     ]
    },
    {
     "name": "stdout",
     "output_type": "stream",
     "text": [
      "NMFRecommender: Computing NMF decomposition... Done!\n",
      "EvaluatorHoldout: Processed 5657 ( 100.00% ) in 8.60 sec. Users per second: 658\n",
      "SearchBayesianSkopt: Config 10 is suboptimal. Config: {'num_factors': 149, 'solver': 'coordinate_descent', 'init_type': 'nndsvda', 'beta_loss': 'frobenius'} - results: ROC_AUC: 0.0870830, PRECISION: 0.0181015, PRECISION_RECALL_MIN_DEN: 0.0501552, RECALL: 0.0473944, MAP: 0.0228558, MRR: 0.0632776, NDCG: 0.0367283, F1: 0.0261973, HIT_RATE: 0.1810147, ARHR: 0.0733467, NOVELTY: 0.0044997, AVERAGE_POPULARITY: 0.1284473, DIVERSITY_MEAN_INTER_LIST: 0.9709640, DIVERSITY_HERFINDAHL: 0.9970792, COVERAGE_ITEM: 0.1193840, COVERAGE_ITEM_CORRECT: 0.0165929, COVERAGE_USER: 0.7118409, COVERAGE_USER_CORRECT: 0.0967661, DIVERSITY_GINI: 0.0228688, SHANNON_ENTROPY: 9.4167821, \n",
      "\n",
      "Iteration No: 11 ended. Search finished for the next optimal point.\n",
      "Time taken: 875.9617\n",
      "Function value obtained: -0.0229\n",
      "Current minimum: -0.0249\n",
      "Iteration No: 12 started. Searching for the next optimal point.\n",
      "NMFRecommender: URM Detected 82 (1.03 %) cold users.\n",
      "NMFRecommender: URM Detected 2372 (9.13 %) cold items.\n",
      "SearchBayesianSkopt: Testing config: {'num_factors': 149, 'solver': 'coordinate_descent', 'init_type': 'nndsvda', 'beta_loss': 'frobenius'}\n",
      "NMFRecommender: Computing NMF decomposition...\n"
     ]
    },
    {
     "name": "stderr",
     "output_type": "stream",
     "text": [
      "/home/infamouskz/anaconda3/lib/python3.8/site-packages/skopt/optimizer/optimizer.py:449: UserWarning: The objective has been evaluated at this point before.\n",
      "  warnings.warn(\"The objective has been evaluated \"\n"
     ]
    },
    {
     "name": "stdout",
     "output_type": "stream",
     "text": [
      "NMFRecommender: Computing NMF decomposition... Done!\n",
      "EvaluatorHoldout: Processed 5657 ( 100.00% ) in 7.77 sec. Users per second: 728\n",
      "SearchBayesianSkopt: Config 11 is suboptimal. Config: {'num_factors': 149, 'solver': 'coordinate_descent', 'init_type': 'nndsvda', 'beta_loss': 'frobenius'} - results: ROC_AUC: 0.0841402, PRECISION: 0.0177302, PRECISION_RECALL_MIN_DEN: 0.0484912, RECALL: 0.0456689, MAP: 0.0202449, MRR: 0.0593920, NDCG: 0.0340806, F1: 0.0255436, HIT_RATE: 0.1773025, ARHR: 0.0679798, NOVELTY: 0.0044773, AVERAGE_POPULARITY: 0.1301865, DIVERSITY_MEAN_INTER_LIST: 0.9704031, DIVERSITY_HERFINDAHL: 0.9970232, COVERAGE_ITEM: 0.1172281, COVERAGE_ITEM_CORRECT: 0.0164774, COVERAGE_USER: 0.7118409, COVERAGE_USER_CORRECT: 0.0963886, DIVERSITY_GINI: 0.0223099, SHANNON_ENTROPY: 9.3836281, \n",
      "\n",
      "Iteration No: 12 ended. Search finished for the next optimal point.\n",
      "Time taken: 317.8885\n",
      "Function value obtained: -0.0202\n",
      "Current minimum: -0.0249\n",
      "Iteration No: 13 started. Searching for the next optimal point.\n",
      "NMFRecommender: URM Detected 82 (1.03 %) cold users.\n",
      "NMFRecommender: URM Detected 2372 (9.13 %) cold items.\n",
      "SearchBayesianSkopt: Testing config: {'num_factors': 149, 'solver': 'coordinate_descent', 'init_type': 'nndsvda', 'beta_loss': 'frobenius'}\n",
      "NMFRecommender: Computing NMF decomposition...\n"
     ]
    },
    {
     "name": "stderr",
     "output_type": "stream",
     "text": [
      "/home/infamouskz/anaconda3/lib/python3.8/site-packages/skopt/optimizer/optimizer.py:449: UserWarning: The objective has been evaluated at this point before.\n",
      "  warnings.warn(\"The objective has been evaluated \"\n"
     ]
    },
    {
     "name": "stdout",
     "output_type": "stream",
     "text": [
      "NMFRecommender: Computing NMF decomposition... Done!\n",
      "EvaluatorHoldout: Processed 5657 ( 100.00% ) in 8.33 sec. Users per second: 679\n",
      "SearchBayesianSkopt: Config 12 is suboptimal. Config: {'num_factors': 149, 'solver': 'coordinate_descent', 'init_type': 'nndsvda', 'beta_loss': 'frobenius'} - results: ROC_AUC: 0.0894550, PRECISION: 0.0188969, PRECISION_RECALL_MIN_DEN: 0.0534346, RECALL: 0.0506650, MAP: 0.0234743, MRR: 0.0639175, NDCG: 0.0382278, F1: 0.0275269, HIT_RATE: 0.1889694, ARHR: 0.0738876, NOVELTY: 0.0044712, AVERAGE_POPULARITY: 0.1334215, DIVERSITY_MEAN_INTER_LIST: 0.9687418, DIVERSITY_HERFINDAHL: 0.9968571, COVERAGE_ITEM: 0.1172666, COVERAGE_ITEM_CORRECT: 0.0166314, COVERAGE_USER: 0.7118409, COVERAGE_USER_CORRECT: 0.1020511, DIVERSITY_GINI: 0.0219260, SHANNON_ENTROPY: 9.3389081, \n",
      "\n",
      "Iteration No: 13 ended. Search finished for the next optimal point.\n",
      "Time taken: 937.4432\n",
      "Function value obtained: -0.0235\n",
      "Current minimum: -0.0249\n",
      "Iteration No: 14 started. Searching for the next optimal point.\n",
      "NMFRecommender: URM Detected 82 (1.03 %) cold users.\n",
      "NMFRecommender: URM Detected 2372 (9.13 %) cold items.\n",
      "SearchBayesianSkopt: Testing config: {'num_factors': 149, 'solver': 'coordinate_descent', 'init_type': 'nndsvda', 'beta_loss': 'frobenius'}\n",
      "NMFRecommender: Computing NMF decomposition...\n"
     ]
    },
    {
     "name": "stderr",
     "output_type": "stream",
     "text": [
      "/home/infamouskz/anaconda3/lib/python3.8/site-packages/skopt/optimizer/optimizer.py:449: UserWarning: The objective has been evaluated at this point before.\n",
      "  warnings.warn(\"The objective has been evaluated \"\n"
     ]
    },
    {
     "name": "stdout",
     "output_type": "stream",
     "text": [
      "NMFRecommender: Computing NMF decomposition... Done!\n",
      "EvaluatorHoldout: Processed 5657 ( 100.00% ) in 7.73 sec. Users per second: 731\n",
      "SearchBayesianSkopt: Config 13 is suboptimal. Config: {'num_factors': 149, 'solver': 'coordinate_descent', 'init_type': 'nndsvda', 'beta_loss': 'frobenius'} - results: ROC_AUC: 0.0867814, PRECISION: 0.0187909, PRECISION_RECALL_MIN_DEN: 0.0521919, RECALL: 0.0492965, MAP: 0.0218130, MRR: 0.0612060, NDCG: 0.0364385, F1: 0.0272099, HIT_RATE: 0.1879088, ARHR: 0.0704407, NOVELTY: 0.0044809, AVERAGE_POPULARITY: 0.1323622, DIVERSITY_MEAN_INTER_LIST: 0.9689194, DIVERSITY_HERFINDAHL: 0.9968748, COVERAGE_ITEM: 0.1179981, COVERAGE_ITEM_CORRECT: 0.0171319, COVERAGE_USER: 0.7118409, COVERAGE_USER_CORRECT: 0.1005411, DIVERSITY_GINI: 0.0224402, SHANNON_ENTROPY: 9.3715586, \n",
      "\n",
      "Iteration No: 14 ended. Search finished for the next optimal point.\n",
      "Time taken: 323.5583\n",
      "Function value obtained: -0.0218\n",
      "Current minimum: -0.0249\n",
      "Iteration No: 15 started. Searching for the next optimal point.\n",
      "NMFRecommender: URM Detected 82 (1.03 %) cold users.\n",
      "NMFRecommender: URM Detected 2372 (9.13 %) cold items.\n",
      "SearchBayesianSkopt: Testing config: {'num_factors': 149, 'solver': 'coordinate_descent', 'init_type': 'nndsvda', 'beta_loss': 'frobenius'}\n",
      "NMFRecommender: Computing NMF decomposition...\n"
     ]
    },
    {
     "name": "stderr",
     "output_type": "stream",
     "text": [
      "/home/infamouskz/anaconda3/lib/python3.8/site-packages/skopt/optimizer/optimizer.py:449: UserWarning: The objective has been evaluated at this point before.\n",
      "  warnings.warn(\"The objective has been evaluated \"\n"
     ]
    },
    {
     "name": "stdout",
     "output_type": "stream",
     "text": [
      "NMFRecommender: Computing NMF decomposition... Done!\n",
      "EvaluatorHoldout: Processed 5657 ( 100.00% ) in 7.55 sec. Users per second: 750\n",
      "SearchBayesianSkopt: Config 14 is suboptimal. Config: {'num_factors': 149, 'solver': 'coordinate_descent', 'init_type': 'nndsvda', 'beta_loss': 'frobenius'} - results: ROC_AUC: 0.0849500, PRECISION: 0.0177656, PRECISION_RECALL_MIN_DEN: 0.0490568, RECALL: 0.0461955, MAP: 0.0210555, MRR: 0.0600254, NDCG: 0.0348055, F1: 0.0256622, HIT_RATE: 0.1776560, ARHR: 0.0689273, NOVELTY: 0.0044757, AVERAGE_POPULARITY: 0.1326685, DIVERSITY_MEAN_INTER_LIST: 0.9690687, DIVERSITY_HERFINDAHL: 0.9968897, COVERAGE_ITEM: 0.1178056, COVERAGE_ITEM_CORRECT: 0.0165544, COVERAGE_USER: 0.7118409, COVERAGE_USER_CORRECT: 0.0963886, DIVERSITY_GINI: 0.0222125, SHANNON_ENTROPY: 9.3614952, \n",
      "\n",
      "Iteration No: 15 ended. Search finished for the next optimal point.\n",
      "Time taken: 376.0571\n",
      "Function value obtained: -0.0211\n",
      "Current minimum: -0.0249\n",
      "Iteration No: 16 started. Searching for the next optimal point.\n",
      "NMFRecommender: URM Detected 82 (1.03 %) cold users.\n",
      "NMFRecommender: URM Detected 2372 (9.13 %) cold items.\n",
      "SearchBayesianSkopt: Testing config: {'num_factors': 149, 'solver': 'coordinate_descent', 'init_type': 'nndsvda', 'beta_loss': 'frobenius'}\n",
      "NMFRecommender: Computing NMF decomposition...\n"
     ]
    },
    {
     "name": "stderr",
     "output_type": "stream",
     "text": [
      "/home/infamouskz/anaconda3/lib/python3.8/site-packages/skopt/optimizer/optimizer.py:449: UserWarning: The objective has been evaluated at this point before.\n",
      "  warnings.warn(\"The objective has been evaluated \"\n"
     ]
    },
    {
     "name": "stdout",
     "output_type": "stream",
     "text": [
      "NMFRecommender: Computing NMF decomposition... Done!\n",
      "EvaluatorHoldout: Processed 5657 ( 100.00% ) in 6.76 sec. Users per second: 837\n",
      "SearchBayesianSkopt: Config 15 is suboptimal. Config: {'num_factors': 149, 'solver': 'coordinate_descent', 'init_type': 'nndsvda', 'beta_loss': 'frobenius'} - results: ROC_AUC: 0.0895483, PRECISION: 0.0188439, PRECISION_RECALL_MIN_DEN: 0.0525135, RECALL: 0.0496154, MAP: 0.0232477, MRR: 0.0636077, NDCG: 0.0377888, F1: 0.0273140, HIT_RATE: 0.1884391, ARHR: 0.0729634, NOVELTY: 0.0044870, AVERAGE_POPULARITY: 0.1318721, DIVERSITY_MEAN_INTER_LIST: 0.9701085, DIVERSITY_HERFINDAHL: 0.9969937, COVERAGE_ITEM: 0.1201540, COVERAGE_ITEM_CORRECT: 0.0176708, COVERAGE_USER: 0.7118409, COVERAGE_USER_CORRECT: 0.1017994, DIVERSITY_GINI: 0.0229844, SHANNON_ENTROPY: 9.4119671, \n",
      "\n",
      "Iteration No: 16 ended. Search finished for the next optimal point.\n",
      "Time taken: 244.5666\n",
      "Function value obtained: -0.0232\n",
      "Current minimum: -0.0249\n",
      "Iteration No: 17 started. Searching for the next optimal point.\n",
      "NMFRecommender: URM Detected 82 (1.03 %) cold users.\n",
      "NMFRecommender: URM Detected 2372 (9.13 %) cold items.\n",
      "SearchBayesianSkopt: Testing config: {'num_factors': 149, 'solver': 'coordinate_descent', 'init_type': 'nndsvda', 'beta_loss': 'frobenius'}\n",
      "NMFRecommender: Computing NMF decomposition...\n"
     ]
    },
    {
     "name": "stderr",
     "output_type": "stream",
     "text": [
      "/home/infamouskz/anaconda3/lib/python3.8/site-packages/skopt/optimizer/optimizer.py:449: UserWarning: The objective has been evaluated at this point before.\n",
      "  warnings.warn(\"The objective has been evaluated \"\n"
     ]
    },
    {
     "name": "stdout",
     "output_type": "stream",
     "text": [
      "NMFRecommender: Computing NMF decomposition... Done!\n",
      "EvaluatorHoldout: Processed 5657 ( 100.00% ) in 6.08 sec. Users per second: 931\n",
      "SearchBayesianSkopt: Config 16 is suboptimal. Config: {'num_factors': 149, 'solver': 'coordinate_descent', 'init_type': 'nndsvda', 'beta_loss': 'frobenius'} - results: ROC_AUC: 0.0882184, PRECISION: 0.0184020, PRECISION_RECALL_MIN_DEN: 0.0515780, RECALL: 0.0488096, MAP: 0.0226383, MRR: 0.0634176, NDCG: 0.0371003, F1: 0.0267273, HIT_RATE: 0.1840198, ARHR: 0.0723789, NOVELTY: 0.0044990, AVERAGE_POPULARITY: 0.1300674, DIVERSITY_MEAN_INTER_LIST: 0.9701945, DIVERSITY_HERFINDAHL: 0.9970023, COVERAGE_ITEM: 0.1208855, COVERAGE_ITEM_CORRECT: 0.0172089, COVERAGE_USER: 0.7118409, COVERAGE_USER_CORRECT: 0.0997861, DIVERSITY_GINI: 0.0230344, SHANNON_ENTROPY: 9.4178679, \n",
      "\n",
      "Iteration No: 17 ended. Search finished for the next optimal point.\n",
      "Time taken: 304.3101\n",
      "Function value obtained: -0.0226\n",
      "Current minimum: -0.0249\n",
      "Iteration No: 18 started. Searching for the next optimal point.\n",
      "NMFRecommender: URM Detected 82 (1.03 %) cold users.\n",
      "NMFRecommender: URM Detected 2372 (9.13 %) cold items.\n",
      "SearchBayesianSkopt: Testing config: {'num_factors': 149, 'solver': 'coordinate_descent', 'init_type': 'nndsvda', 'beta_loss': 'frobenius'}\n",
      "NMFRecommender: Computing NMF decomposition...\n"
     ]
    },
    {
     "name": "stderr",
     "output_type": "stream",
     "text": [
      "/home/infamouskz/anaconda3/lib/python3.8/site-packages/skopt/optimizer/optimizer.py:449: UserWarning: The objective has been evaluated at this point before.\n",
      "  warnings.warn(\"The objective has been evaluated \"\n"
     ]
    },
    {
     "name": "stdout",
     "output_type": "stream",
     "text": [
      "NMFRecommender: Computing NMF decomposition... Done!\n",
      "EvaluatorHoldout: Processed 5657 ( 100.00% ) in 7.06 sec. Users per second: 801\n",
      "SearchBayesianSkopt: Config 17 is suboptimal. Config: {'num_factors': 149, 'solver': 'coordinate_descent', 'init_type': 'nndsvda', 'beta_loss': 'frobenius'} - results: ROC_AUC: 0.0902554, PRECISION: 0.0186495, PRECISION_RECALL_MIN_DEN: 0.0516457, RECALL: 0.0487064, MAP: 0.0229022, MRR: 0.0656470, NDCG: 0.0372822, F1: 0.0269716, HIT_RATE: 0.1864946, ARHR: 0.0752818, NOVELTY: 0.0044961, AVERAGE_POPULARITY: 0.1305591, DIVERSITY_MEAN_INTER_LIST: 0.9694135, DIVERSITY_HERFINDAHL: 0.9969242, COVERAGE_ITEM: 0.1191145, COVERAGE_ITEM_CORRECT: 0.0166699, COVERAGE_USER: 0.7118409, COVERAGE_USER_CORRECT: 0.1011703, DIVERSITY_GINI: 0.0225701, SHANNON_ENTROPY: 9.3833536, \n",
      "\n",
      "Iteration No: 18 ended. Search finished for the next optimal point.\n",
      "Time taken: 349.9156\n",
      "Function value obtained: -0.0229\n",
      "Current minimum: -0.0249\n",
      "Iteration No: 19 started. Searching for the next optimal point.\n",
      "NMFRecommender: URM Detected 82 (1.03 %) cold users.\n",
      "NMFRecommender: URM Detected 2372 (9.13 %) cold items.\n",
      "SearchBayesianSkopt: Testing config: {'num_factors': 149, 'solver': 'coordinate_descent', 'init_type': 'nndsvda', 'beta_loss': 'frobenius'}\n",
      "NMFRecommender: Computing NMF decomposition...\n"
     ]
    },
    {
     "name": "stderr",
     "output_type": "stream",
     "text": [
      "/home/infamouskz/anaconda3/lib/python3.8/site-packages/skopt/optimizer/optimizer.py:449: UserWarning: The objective has been evaluated at this point before.\n",
      "  warnings.warn(\"The objective has been evaluated \"\n"
     ]
    },
    {
     "name": "stdout",
     "output_type": "stream",
     "text": [
      "NMFRecommender: Computing NMF decomposition... Done!\n",
      "EvaluatorHoldout: Processed 5657 ( 100.00% ) in 5.50 sec. Users per second: 1028\n",
      "SearchBayesianSkopt: Config 18 is suboptimal. Config: {'num_factors': 149, 'solver': 'coordinate_descent', 'init_type': 'nndsvda', 'beta_loss': 'frobenius'} - results: ROC_AUC: 0.0887744, PRECISION: 0.0184373, PRECISION_RECALL_MIN_DEN: 0.0520179, RECALL: 0.0492535, MAP: 0.0232042, MRR: 0.0632907, NDCG: 0.0375234, F1: 0.0268309, HIT_RATE: 0.1843733, ARHR: 0.0726374, NOVELTY: 0.0044942, AVERAGE_POPULARITY: 0.1302826, DIVERSITY_MEAN_INTER_LIST: 0.9700840, DIVERSITY_HERFINDAHL: 0.9969913, COVERAGE_ITEM: 0.1181136, COVERAGE_ITEM_CORRECT: 0.0168239, COVERAGE_USER: 0.7118409, COVERAGE_USER_CORRECT: 0.0989052, DIVERSITY_GINI: 0.0224135, SHANNON_ENTROPY: 9.3862476, \n",
      "\n",
      "Iteration No: 19 ended. Search finished for the next optimal point.\n",
      "Time taken: 380.2863\n",
      "Function value obtained: -0.0232\n",
      "Current minimum: -0.0249\n",
      "Iteration No: 20 started. Searching for the next optimal point.\n",
      "NMFRecommender: URM Detected 82 (1.03 %) cold users.\n",
      "NMFRecommender: URM Detected 2372 (9.13 %) cold items.\n",
      "SearchBayesianSkopt: Testing config: {'num_factors': 149, 'solver': 'coordinate_descent', 'init_type': 'nndsvda', 'beta_loss': 'frobenius'}\n",
      "NMFRecommender: Computing NMF decomposition...\n"
     ]
    },
    {
     "name": "stderr",
     "output_type": "stream",
     "text": [
      "/home/infamouskz/anaconda3/lib/python3.8/site-packages/skopt/optimizer/optimizer.py:449: UserWarning: The objective has been evaluated at this point before.\n",
      "  warnings.warn(\"The objective has been evaluated \"\n"
     ]
    },
    {
     "name": "stdout",
     "output_type": "stream",
     "text": [
      "NMFRecommender: Computing NMF decomposition... Done!\n",
      "EvaluatorHoldout: Processed 5657 ( 100.00% ) in 5.39 sec. Users per second: 1049\n",
      "SearchBayesianSkopt: Config 19 is suboptimal. Config: {'num_factors': 149, 'solver': 'coordinate_descent', 'init_type': 'nndsvda', 'beta_loss': 'frobenius'} - results: ROC_AUC: 0.0889433, PRECISION: 0.0185788, PRECISION_RECALL_MIN_DEN: 0.0520843, RECALL: 0.0491924, MAP: 0.0233110, MRR: 0.0643022, NDCG: 0.0376267, F1: 0.0269712, HIT_RATE: 0.1857875, ARHR: 0.0736416, NOVELTY: 0.0044823, AVERAGE_POPULARITY: 0.1323583, DIVERSITY_MEAN_INTER_LIST: 0.9692379, DIVERSITY_HERFINDAHL: 0.9969067, COVERAGE_ITEM: 0.1178056, COVERAGE_ITEM_CORRECT: 0.0171319, COVERAGE_USER: 0.7118409, COVERAGE_USER_CORRECT: 0.1002894, DIVERSITY_GINI: 0.0221499, SHANNON_ENTROPY: 9.3588542, \n",
      "\n",
      "Iteration No: 20 ended. Search finished for the next optimal point.\n",
      "Time taken: 215.3756\n",
      "Function value obtained: -0.0233\n",
      "Current minimum: -0.0249\n",
      "Iteration No: 21 started. Searching for the next optimal point.\n",
      "NMFRecommender: URM Detected 82 (1.03 %) cold users.\n",
      "NMFRecommender: URM Detected 2372 (9.13 %) cold items.\n",
      "SearchBayesianSkopt: Testing config: {'num_factors': 149, 'solver': 'coordinate_descent', 'init_type': 'nndsvda', 'beta_loss': 'frobenius'}\n",
      "NMFRecommender: Computing NMF decomposition...\n"
     ]
    },
    {
     "name": "stderr",
     "output_type": "stream",
     "text": [
      "/home/infamouskz/anaconda3/lib/python3.8/site-packages/skopt/optimizer/optimizer.py:449: UserWarning: The objective has been evaluated at this point before.\n",
      "  warnings.warn(\"The objective has been evaluated \"\n"
     ]
    },
    {
     "name": "stdout",
     "output_type": "stream",
     "text": [
      "NMFRecommender: Computing NMF decomposition... Done!\n",
      "EvaluatorHoldout: Processed 5657 ( 100.00% ) in 6.61 sec. Users per second: 856\n",
      "SearchBayesianSkopt: Config 20 is suboptimal. Config: {'num_factors': 149, 'solver': 'coordinate_descent', 'init_type': 'nndsvda', 'beta_loss': 'frobenius'} - results: ROC_AUC: 0.0884173, PRECISION: 0.0183666, PRECISION_RECALL_MIN_DEN: 0.0515698, RECALL: 0.0486037, MAP: 0.0232165, MRR: 0.0642449, NDCG: 0.0373564, F1: 0.0266591, HIT_RATE: 0.1836663, ARHR: 0.0736088, NOVELTY: 0.0045208, AVERAGE_POPULARITY: 0.1279926, DIVERSITY_MEAN_INTER_LIST: 0.9712997, DIVERSITY_HERFINDAHL: 0.9971128, COVERAGE_ITEM: 0.1208085, COVERAGE_ITEM_CORRECT: 0.0167854, COVERAGE_USER: 0.7118409, COVERAGE_USER_CORRECT: 0.0990311, DIVERSITY_GINI: 0.0238457, SHANNON_ENTROPY: 9.4762799, \n",
      "\n",
      "Iteration No: 21 ended. Search finished for the next optimal point.\n",
      "Time taken: 279.8289\n",
      "Function value obtained: -0.0232\n",
      "Current minimum: -0.0249\n",
      "Iteration No: 22 started. Searching for the next optimal point.\n",
      "NMFRecommender: URM Detected 82 (1.03 %) cold users.\n",
      "NMFRecommender: URM Detected 2372 (9.13 %) cold items.\n",
      "SearchBayesianSkopt: Testing config: {'num_factors': 149, 'solver': 'coordinate_descent', 'init_type': 'nndsvda', 'beta_loss': 'frobenius'}\n",
      "NMFRecommender: Computing NMF decomposition...\n"
     ]
    },
    {
     "name": "stderr",
     "output_type": "stream",
     "text": [
      "/home/infamouskz/anaconda3/lib/python3.8/site-packages/skopt/optimizer/optimizer.py:449: UserWarning: The objective has been evaluated at this point before.\n",
      "  warnings.warn(\"The objective has been evaluated \"\n"
     ]
    },
    {
     "name": "stdout",
     "output_type": "stream",
     "text": [
      "NMFRecommender: Computing NMF decomposition... Done!\n",
      "EvaluatorHoldout: Processed 5657 ( 100.00% ) in 6.92 sec. Users per second: 818\n",
      "SearchBayesianSkopt: Config 21 is suboptimal. Config: {'num_factors': 149, 'solver': 'coordinate_descent', 'init_type': 'nndsvda', 'beta_loss': 'frobenius'} - results: ROC_AUC: 0.0860189, PRECISION: 0.0181545, PRECISION_RECALL_MIN_DEN: 0.0510526, RECALL: 0.0482402, MAP: 0.0207034, MRR: 0.0591092, NDCG: 0.0350800, F1: 0.0263809, HIT_RATE: 0.1815450, ARHR: 0.0675603, NOVELTY: 0.0044957, AVERAGE_POPULARITY: 0.1283029, DIVERSITY_MEAN_INTER_LIST: 0.9711206, DIVERSITY_HERFINDAHL: 0.9970949, COVERAGE_ITEM: 0.1187295, COVERAGE_ITEM_CORRECT: 0.0169779, COVERAGE_USER: 0.7118409, COVERAGE_USER_CORRECT: 0.0995344, DIVERSITY_GINI: 0.0230913, SHANNON_ENTROPY: 9.4341654, \n",
      "\n",
      "Iteration No: 22 ended. Search finished for the next optimal point.\n",
      "Time taken: 168.7964\n",
      "Function value obtained: -0.0207\n",
      "Current minimum: -0.0249\n",
      "Iteration No: 23 started. Searching for the next optimal point.\n",
      "NMFRecommender: URM Detected 82 (1.03 %) cold users.\n",
      "NMFRecommender: URM Detected 2372 (9.13 %) cold items.\n",
      "SearchBayesianSkopt: Testing config: {'num_factors': 149, 'solver': 'coordinate_descent', 'init_type': 'nndsvda', 'beta_loss': 'frobenius'}\n",
      "NMFRecommender: Computing NMF decomposition...\n"
     ]
    },
    {
     "name": "stderr",
     "output_type": "stream",
     "text": [
      "/home/infamouskz/anaconda3/lib/python3.8/site-packages/skopt/optimizer/optimizer.py:449: UserWarning: The objective has been evaluated at this point before.\n",
      "  warnings.warn(\"The objective has been evaluated \"\n",
      "/home/infamouskz/anaconda3/lib/python3.8/site-packages/sklearn/decomposition/_nmf.py:1076: ConvergenceWarning: Maximum number of iterations 500 reached. Increase it to improve convergence.\n",
      "  warnings.warn(\"Maximum number of iterations %d reached. Increase it to\"\n"
     ]
    },
    {
     "name": "stdout",
     "output_type": "stream",
     "text": [
      "NMFRecommender: Computing NMF decomposition... Done!\n",
      "EvaluatorHoldout: Processed 5657 ( 100.00% ) in 7.69 sec. Users per second: 736\n",
      "SearchBayesianSkopt: Config 22 is suboptimal. Config: {'num_factors': 149, 'solver': 'coordinate_descent', 'init_type': 'nndsvda', 'beta_loss': 'frobenius'} - results: ROC_AUC: 0.0883201, PRECISION: 0.0182782, PRECISION_RECALL_MIN_DEN: 0.0514324, RECALL: 0.0485756, MAP: 0.0226104, MRR: 0.0636662, NDCG: 0.0368956, F1: 0.0265617, HIT_RATE: 0.1827824, ARHR: 0.0726467, NOVELTY: 0.0045153, AVERAGE_POPULARITY: 0.1274317, DIVERSITY_MEAN_INTER_LIST: 0.9717597, DIVERSITY_HERFINDAHL: 0.9971588, COVERAGE_ITEM: 0.1183831, COVERAGE_ITEM_CORRECT: 0.0168239, COVERAGE_USER: 0.7118409, COVERAGE_USER_CORRECT: 0.1001636, DIVERSITY_GINI: 0.0233356, SHANNON_ENTROPY: 9.4597823, \n",
      "\n",
      "Iteration No: 23 ended. Search finished for the next optimal point.\n",
      "Time taken: 930.2080\n",
      "Function value obtained: -0.0226\n",
      "Current minimum: -0.0249\n",
      "Iteration No: 24 started. Searching for the next optimal point.\n",
      "NMFRecommender: URM Detected 82 (1.03 %) cold users.\n",
      "NMFRecommender: URM Detected 2372 (9.13 %) cold items.\n",
      "SearchBayesianSkopt: Testing config: {'num_factors': 149, 'solver': 'coordinate_descent', 'init_type': 'nndsvda', 'beta_loss': 'frobenius'}\n",
      "NMFRecommender: Computing NMF decomposition...\n"
     ]
    },
    {
     "name": "stderr",
     "output_type": "stream",
     "text": [
      "/home/infamouskz/anaconda3/lib/python3.8/site-packages/skopt/optimizer/optimizer.py:449: UserWarning: The objective has been evaluated at this point before.\n",
      "  warnings.warn(\"The objective has been evaluated \"\n"
     ]
    },
    {
     "name": "stdout",
     "output_type": "stream",
     "text": [
      "NMFRecommender: Computing NMF decomposition... Done!\n",
      "EvaluatorHoldout: Processed 5657 ( 100.00% ) in 15.62 sec. Users per second: 362\n",
      "SearchBayesianSkopt: Config 23 is suboptimal. Config: {'num_factors': 149, 'solver': 'coordinate_descent', 'init_type': 'nndsvda', 'beta_loss': 'frobenius'} - results: ROC_AUC: 0.0879498, PRECISION: 0.0185080, PRECISION_RECALL_MIN_DEN: 0.0524950, RECALL: 0.0497380, MAP: 0.0231720, MRR: 0.0638143, NDCG: 0.0376884, F1: 0.0269775, HIT_RATE: 0.1850804, ARHR: 0.0732597, NOVELTY: 0.0044693, AVERAGE_POPULARITY: 0.1346553, DIVERSITY_MEAN_INTER_LIST: 0.9683681, DIVERSITY_HERFINDAHL: 0.9968197, COVERAGE_ITEM: 0.1178441, COVERAGE_ITEM_CORRECT: 0.0162849, COVERAGE_USER: 0.7118409, COVERAGE_USER_CORRECT: 0.0996602, DIVERSITY_GINI: 0.0221038, SHANNON_ENTROPY: 9.3435524, \n",
      "\n",
      "Iteration No: 24 ended. Search finished for the next optimal point.\n",
      "Time taken: 344.1576\n",
      "Function value obtained: -0.0232\n",
      "Current minimum: -0.0249\n",
      "Iteration No: 25 started. Searching for the next optimal point.\n",
      "NMFRecommender: URM Detected 82 (1.03 %) cold users.\n",
      "NMFRecommender: URM Detected 2372 (9.13 %) cold items.\n",
      "SearchBayesianSkopt: Testing config: {'num_factors': 149, 'solver': 'coordinate_descent', 'init_type': 'nndsvda', 'beta_loss': 'frobenius'}\n",
      "NMFRecommender: Computing NMF decomposition...\n"
     ]
    },
    {
     "name": "stderr",
     "output_type": "stream",
     "text": [
      "/home/infamouskz/anaconda3/lib/python3.8/site-packages/skopt/optimizer/optimizer.py:449: UserWarning: The objective has been evaluated at this point before.\n",
      "  warnings.warn(\"The objective has been evaluated \"\n"
     ]
    },
    {
     "name": "stdout",
     "output_type": "stream",
     "text": [
      "NMFRecommender: Computing NMF decomposition... Done!\n",
      "EvaluatorHoldout: Processed 5657 ( 100.00% ) in 7.35 sec. Users per second: 770\n",
      "SearchBayesianSkopt: Config 24 is suboptimal. Config: {'num_factors': 149, 'solver': 'coordinate_descent', 'init_type': 'nndsvda', 'beta_loss': 'frobenius'} - results: ROC_AUC: 0.0819920, PRECISION: 0.0175712, PRECISION_RECALL_MIN_DEN: 0.0477809, RECALL: 0.0449344, MAP: 0.0201935, MRR: 0.0580207, NDCG: 0.0337898, F1: 0.0252633, HIT_RATE: 0.1757115, ARHR: 0.0664738, NOVELTY: 0.0044963, AVERAGE_POPULARITY: 0.1282033, DIVERSITY_MEAN_INTER_LIST: 0.9707739, DIVERSITY_HERFINDAHL: 0.9970602, COVERAGE_ITEM: 0.1181906, COVERAGE_ITEM_CORRECT: 0.0167854, COVERAGE_USER: 0.7118409, COVERAGE_USER_CORRECT: 0.0943752, DIVERSITY_GINI: 0.0229250, SHANNON_ENTROPY: 9.4260915, \n",
      "\n",
      "Iteration No: 25 ended. Search finished for the next optimal point.\n",
      "Time taken: 364.7865\n",
      "Function value obtained: -0.0202\n",
      "Current minimum: -0.0249\n",
      "Iteration No: 26 started. Searching for the next optimal point.\n",
      "NMFRecommender: URM Detected 82 (1.03 %) cold users.\n",
      "NMFRecommender: URM Detected 2372 (9.13 %) cold items.\n",
      "SearchBayesianSkopt: Testing config: {'num_factors': 149, 'solver': 'coordinate_descent', 'init_type': 'nndsvda', 'beta_loss': 'frobenius'}\n",
      "NMFRecommender: Computing NMF decomposition...\n"
     ]
    },
    {
     "name": "stderr",
     "output_type": "stream",
     "text": [
      "/home/infamouskz/anaconda3/lib/python3.8/site-packages/skopt/optimizer/optimizer.py:449: UserWarning: The objective has been evaluated at this point before.\n",
      "  warnings.warn(\"The objective has been evaluated \"\n"
     ]
    },
    {
     "name": "stdout",
     "output_type": "stream",
     "text": [
      "NMFRecommender: Computing NMF decomposition... Done!\n",
      "EvaluatorHoldout: Processed 5657 ( 100.00% ) in 5.91 sec. Users per second: 957\n",
      "SearchBayesianSkopt: Config 25 is suboptimal. Config: {'num_factors': 149, 'solver': 'coordinate_descent', 'init_type': 'nndsvda', 'beta_loss': 'frobenius'} - results: ROC_AUC: 0.0853054, PRECISION: 0.0176949, PRECISION_RECALL_MIN_DEN: 0.0493806, RECALL: 0.0467096, MAP: 0.0218481, MRR: 0.0614693, NDCG: 0.0356427, F1: 0.0256666, HIT_RATE: 0.1769489, ARHR: 0.0705889, NOVELTY: 0.0045017, AVERAGE_POPULARITY: 0.1294772, DIVERSITY_MEAN_INTER_LIST: 0.9701786, DIVERSITY_HERFINDAHL: 0.9970007, COVERAGE_ITEM: 0.1183446, COVERAGE_ITEM_CORRECT: 0.0164389, COVERAGE_USER: 0.7118409, COVERAGE_USER_CORRECT: 0.0953819, DIVERSITY_GINI: 0.0227242, SHANNON_ENTROPY: 9.4072675, \n",
      "\n",
      "Iteration No: 26 ended. Search finished for the next optimal point.\n",
      "Time taken: 295.7689\n",
      "Function value obtained: -0.0218\n",
      "Current minimum: -0.0249\n",
      "Iteration No: 27 started. Searching for the next optimal point.\n",
      "NMFRecommender: URM Detected 82 (1.03 %) cold users.\n",
      "NMFRecommender: URM Detected 2372 (9.13 %) cold items.\n",
      "SearchBayesianSkopt: Testing config: {'num_factors': 149, 'solver': 'coordinate_descent', 'init_type': 'nndsvda', 'beta_loss': 'frobenius'}\n",
      "NMFRecommender: Computing NMF decomposition...\n"
     ]
    },
    {
     "name": "stderr",
     "output_type": "stream",
     "text": [
      "/home/infamouskz/anaconda3/lib/python3.8/site-packages/skopt/optimizer/optimizer.py:449: UserWarning: The objective has been evaluated at this point before.\n",
      "  warnings.warn(\"The objective has been evaluated \"\n"
     ]
    },
    {
     "name": "stdout",
     "output_type": "stream",
     "text": [
      "NMFRecommender: Computing NMF decomposition... Done!\n",
      "EvaluatorHoldout: Processed 5657 ( 100.00% ) in 6.46 sec. Users per second: 875\n",
      "SearchBayesianSkopt: Config 26 is suboptimal. Config: {'num_factors': 149, 'solver': 'coordinate_descent', 'init_type': 'nndsvda', 'beta_loss': 'frobenius'} - results: ROC_AUC: 0.0893375, PRECISION: 0.0186671, PRECISION_RECALL_MIN_DEN: 0.0508070, RECALL: 0.0478802, MAP: 0.0226142, MRR: 0.0649335, NDCG: 0.0369645, F1: 0.0268617, HIT_RATE: 0.1866714, ARHR: 0.0746881, NOVELTY: 0.0045040, AVERAGE_POPULARITY: 0.1294764, DIVERSITY_MEAN_INTER_LIST: 0.9700561, DIVERSITY_HERFINDAHL: 0.9969885, COVERAGE_ITEM: 0.1202310, COVERAGE_ITEM_CORRECT: 0.0175553, COVERAGE_USER: 0.7118409, COVERAGE_USER_CORRECT: 0.1004153, DIVERSITY_GINI: 0.0230223, SHANNON_ENTROPY: 9.4173420, \n",
      "\n",
      "Iteration No: 27 ended. Search finished for the next optimal point.\n",
      "Time taken: 343.6900\n",
      "Function value obtained: -0.0226\n",
      "Current minimum: -0.0249\n",
      "Iteration No: 28 started. Searching for the next optimal point.\n",
      "NMFRecommender: URM Detected 82 (1.03 %) cold users.\n",
      "NMFRecommender: URM Detected 2372 (9.13 %) cold items.\n",
      "SearchBayesianSkopt: Testing config: {'num_factors': 149, 'solver': 'coordinate_descent', 'init_type': 'nndsvda', 'beta_loss': 'frobenius'}\n",
      "NMFRecommender: Computing NMF decomposition...\n"
     ]
    },
    {
     "name": "stderr",
     "output_type": "stream",
     "text": [
      "/home/infamouskz/anaconda3/lib/python3.8/site-packages/skopt/optimizer/optimizer.py:449: UserWarning: The objective has been evaluated at this point before.\n",
      "  warnings.warn(\"The objective has been evaluated \"\n"
     ]
    },
    {
     "name": "stdout",
     "output_type": "stream",
     "text": [
      "NMFRecommender: Computing NMF decomposition... Done!\n",
      "EvaluatorHoldout: Processed 5657 ( 100.00% ) in 5.90 sec. Users per second: 958\n",
      "SearchBayesianSkopt: Config 27 is suboptimal. Config: {'num_factors': 149, 'solver': 'coordinate_descent', 'init_type': 'nndsvda', 'beta_loss': 'frobenius'} - results: ROC_AUC: 0.0909118, PRECISION: 0.0184020, PRECISION_RECALL_MIN_DEN: 0.0521460, RECALL: 0.0494501, MAP: 0.0237350, MRR: 0.0653597, NDCG: 0.0381010, F1: 0.0268225, HIT_RATE: 0.1840198, ARHR: 0.0751057, NOVELTY: 0.0044948, AVERAGE_POPULARITY: 0.1298412, DIVERSITY_MEAN_INTER_LIST: 0.9703344, DIVERSITY_HERFINDAHL: 0.9970163, COVERAGE_ITEM: 0.1185371, COVERAGE_ITEM_CORRECT: 0.0169009, COVERAGE_USER: 0.7118409, COVERAGE_USER_CORRECT: 0.0999119, DIVERSITY_GINI: 0.0225940, SHANNON_ENTROPY: 9.3975180, \n",
      "\n",
      "Iteration No: 28 ended. Search finished for the next optimal point.\n",
      "Time taken: 260.4512\n",
      "Function value obtained: -0.0237\n",
      "Current minimum: -0.0249\n",
      "Iteration No: 29 started. Searching for the next optimal point.\n",
      "NMFRecommender: URM Detected 82 (1.03 %) cold users.\n",
      "NMFRecommender: URM Detected 2372 (9.13 %) cold items.\n",
      "SearchBayesianSkopt: Testing config: {'num_factors': 149, 'solver': 'coordinate_descent', 'init_type': 'nndsvda', 'beta_loss': 'frobenius'}\n",
      "NMFRecommender: Computing NMF decomposition...\n"
     ]
    },
    {
     "name": "stderr",
     "output_type": "stream",
     "text": [
      "/home/infamouskz/anaconda3/lib/python3.8/site-packages/skopt/optimizer/optimizer.py:449: UserWarning: The objective has been evaluated at this point before.\n",
      "  warnings.warn(\"The objective has been evaluated \"\n"
     ]
    },
    {
     "name": "stdout",
     "output_type": "stream",
     "text": [
      "NMFRecommender: Computing NMF decomposition... Done!\n",
      "EvaluatorHoldout: Processed 5657 ( 100.00% ) in 6.54 sec. Users per second: 865\n",
      "SearchBayesianSkopt: Config 28 is suboptimal. Config: {'num_factors': 149, 'solver': 'coordinate_descent', 'init_type': 'nndsvda', 'beta_loss': 'frobenius'} - results: ROC_AUC: 0.0874888, PRECISION: 0.0189853, PRECISION_RECALL_MIN_DEN: 0.0521430, RECALL: 0.0491039, MAP: 0.0221333, MRR: 0.0624369, NDCG: 0.0366814, F1: 0.0273833, HIT_RATE: 0.1898533, ARHR: 0.0723801, NOVELTY: 0.0044816, AVERAGE_POPULARITY: 0.1322136, DIVERSITY_MEAN_INTER_LIST: 0.9685399, DIVERSITY_HERFINDAHL: 0.9968369, COVERAGE_ITEM: 0.1195765, COVERAGE_ITEM_CORRECT: 0.0177093, COVERAGE_USER: 0.7118409, COVERAGE_USER_CORRECT: 0.1002894, DIVERSITY_GINI: 0.0224961, SHANNON_ENTROPY: 9.3645136, \n",
      "\n",
      "Iteration No: 29 ended. Search finished for the next optimal point.\n",
      "Time taken: 665.0649\n",
      "Function value obtained: -0.0221\n",
      "Current minimum: -0.0249\n",
      "Iteration No: 30 started. Searching for the next optimal point.\n",
      "NMFRecommender: URM Detected 82 (1.03 %) cold users.\n",
      "NMFRecommender: URM Detected 2372 (9.13 %) cold items.\n",
      "SearchBayesianSkopt: Testing config: {'num_factors': 149, 'solver': 'coordinate_descent', 'init_type': 'nndsvda', 'beta_loss': 'frobenius'}\n",
      "NMFRecommender: Computing NMF decomposition...\n"
     ]
    },
    {
     "name": "stderr",
     "output_type": "stream",
     "text": [
      "/home/infamouskz/anaconda3/lib/python3.8/site-packages/skopt/optimizer/optimizer.py:449: UserWarning: The objective has been evaluated at this point before.\n",
      "  warnings.warn(\"The objective has been evaluated \"\n"
     ]
    },
    {
     "name": "stdout",
     "output_type": "stream",
     "text": [
      "NMFRecommender: Computing NMF decomposition... Done!\n",
      "EvaluatorHoldout: Processed 5657 ( 100.00% ) in 5.55 sec. Users per second: 1020\n",
      "SearchBayesianSkopt: Config 29 is suboptimal. Config: {'num_factors': 149, 'solver': 'coordinate_descent', 'init_type': 'nndsvda', 'beta_loss': 'frobenius'} - results: ROC_AUC: 0.0909239, PRECISION: 0.0185080, PRECISION_RECALL_MIN_DEN: 0.0515638, RECALL: 0.0487329, MAP: 0.0234382, MRR: 0.0659936, NDCG: 0.0377320, F1: 0.0268274, HIT_RATE: 0.1850804, ARHR: 0.0751458, NOVELTY: 0.0044930, AVERAGE_POPULARITY: 0.1297363, DIVERSITY_MEAN_INTER_LIST: 0.9711260, DIVERSITY_HERFINDAHL: 0.9970954, COVERAGE_ITEM: 0.1196535, COVERAGE_ITEM_CORRECT: 0.0176323, COVERAGE_USER: 0.7118409, COVERAGE_USER_CORRECT: 0.1012961, DIVERSITY_GINI: 0.0229536, SHANNON_ENTROPY: 9.4257069, \n",
      "\n",
      "Iteration No: 30 ended. Search finished for the next optimal point.\n",
      "Time taken: 572.8248\n",
      "Function value obtained: -0.0234\n",
      "Current minimum: -0.0249\n",
      "Iteration No: 31 started. Searching for the next optimal point.\n",
      "NMFRecommender: URM Detected 82 (1.03 %) cold users.\n",
      "NMFRecommender: URM Detected 2372 (9.13 %) cold items.\n",
      "SearchBayesianSkopt: Testing config: {'num_factors': 149, 'solver': 'coordinate_descent', 'init_type': 'nndsvda', 'beta_loss': 'frobenius'}\n",
      "NMFRecommender: Computing NMF decomposition...\n"
     ]
    },
    {
     "name": "stderr",
     "output_type": "stream",
     "text": [
      "/home/infamouskz/anaconda3/lib/python3.8/site-packages/skopt/optimizer/optimizer.py:449: UserWarning: The objective has been evaluated at this point before.\n",
      "  warnings.warn(\"The objective has been evaluated \"\n"
     ]
    },
    {
     "name": "stdout",
     "output_type": "stream",
     "text": [
      "NMFRecommender: Computing NMF decomposition... Done!\n",
      "EvaluatorHoldout: Processed 5657 ( 100.00% ) in 10.53 sec. Users per second: 537\n",
      "SearchBayesianSkopt: Config 30 is suboptimal. Config: {'num_factors': 149, 'solver': 'coordinate_descent', 'init_type': 'nndsvda', 'beta_loss': 'frobenius'} - results: ROC_AUC: 0.0890328, PRECISION: 0.0184373, PRECISION_RECALL_MIN_DEN: 0.0514339, RECALL: 0.0484951, MAP: 0.0234554, MRR: 0.0650411, NDCG: 0.0375376, F1: 0.0267171, HIT_RATE: 0.1843733, ARHR: 0.0746502, NOVELTY: 0.0045149, AVERAGE_POPULARITY: 0.1259705, DIVERSITY_MEAN_INTER_LIST: 0.9725464, DIVERSITY_HERFINDAHL: 0.9972374, COVERAGE_ITEM: 0.1195765, COVERAGE_ITEM_CORRECT: 0.0172089, COVERAGE_USER: 0.7118409, COVERAGE_USER_CORRECT: 0.0990311, DIVERSITY_GINI: 0.0235984, SHANNON_ENTROPY: 9.4848570, \n",
      "\n",
      "Iteration No: 31 ended. Search finished for the next optimal point.\n",
      "Time taken: 406.5711\n",
      "Function value obtained: -0.0235\n",
      "Current minimum: -0.0249\n",
      "Iteration No: 32 started. Searching for the next optimal point.\n",
      "NMFRecommender: URM Detected 82 (1.03 %) cold users.\n",
      "NMFRecommender: URM Detected 2372 (9.13 %) cold items.\n",
      "SearchBayesianSkopt: Testing config: {'num_factors': 149, 'solver': 'coordinate_descent', 'init_type': 'nndsvda', 'beta_loss': 'frobenius'}\n",
      "NMFRecommender: Computing NMF decomposition...\n"
     ]
    },
    {
     "name": "stderr",
     "output_type": "stream",
     "text": [
      "/home/infamouskz/anaconda3/lib/python3.8/site-packages/skopt/optimizer/optimizer.py:449: UserWarning: The objective has been evaluated at this point before.\n",
      "  warnings.warn(\"The objective has been evaluated \"\n"
     ]
    },
    {
     "name": "stdout",
     "output_type": "stream",
     "text": [
      "NMFRecommender: Computing NMF decomposition... Done!\n",
      "EvaluatorHoldout: Processed 5657 ( 100.00% ) in 4.85 sec. Users per second: 1167\n",
      "SearchBayesianSkopt: Config 31 is suboptimal. Config: {'num_factors': 149, 'solver': 'coordinate_descent', 'init_type': 'nndsvda', 'beta_loss': 'frobenius'} - results: ROC_AUC: 0.0878911, PRECISION: 0.0185080, PRECISION_RECALL_MIN_DEN: 0.0512344, RECALL: 0.0484188, MAP: 0.0227895, MRR: 0.0636153, NDCG: 0.0371096, F1: 0.0267796, HIT_RATE: 0.1850804, ARHR: 0.0729698, NOVELTY: 0.0044773, AVERAGE_POPULARITY: 0.1332423, DIVERSITY_MEAN_INTER_LIST: 0.9686591, DIVERSITY_HERFINDAHL: 0.9968488, COVERAGE_ITEM: 0.1183061, COVERAGE_ITEM_CORRECT: 0.0169394, COVERAGE_USER: 0.7118409, COVERAGE_USER_CORRECT: 0.0996602, DIVERSITY_GINI: 0.0222509, SHANNON_ENTROPY: 9.3549865, \n",
      "\n",
      "Iteration No: 32 ended. Search finished for the next optimal point.\n",
      "Time taken: 518.3343\n",
      "Function value obtained: -0.0228\n",
      "Current minimum: -0.0249\n",
      "Iteration No: 33 started. Searching for the next optimal point.\n",
      "NMFRecommender: URM Detected 82 (1.03 %) cold users.\n",
      "NMFRecommender: URM Detected 2372 (9.13 %) cold items.\n",
      "SearchBayesianSkopt: Testing config: {'num_factors': 149, 'solver': 'coordinate_descent', 'init_type': 'nndsvda', 'beta_loss': 'frobenius'}\n",
      "NMFRecommender: Computing NMF decomposition...\n"
     ]
    },
    {
     "name": "stderr",
     "output_type": "stream",
     "text": [
      "/home/infamouskz/anaconda3/lib/python3.8/site-packages/skopt/optimizer/optimizer.py:449: UserWarning: The objective has been evaluated at this point before.\n",
      "  warnings.warn(\"The objective has been evaluated \"\n"
     ]
    },
    {
     "name": "stdout",
     "output_type": "stream",
     "text": [
      "NMFRecommender: Computing NMF decomposition... Done!\n",
      "EvaluatorHoldout: Processed 5657 ( 100.00% ) in 5.81 sec. Users per second: 973\n",
      "SearchBayesianSkopt: Config 32 is suboptimal. Config: {'num_factors': 149, 'solver': 'coordinate_descent', 'init_type': 'nndsvda', 'beta_loss': 'frobenius'} - results: ROC_AUC: 0.0909040, PRECISION: 0.0186848, PRECISION_RECALL_MIN_DEN: 0.0530206, RECALL: 0.0501514, MAP: 0.0241827, MRR: 0.0656403, NDCG: 0.0385615, F1: 0.0272261, HIT_RATE: 0.1868482, ARHR: 0.0754338, NOVELTY: 0.0045191, AVERAGE_POPULARITY: 0.1257684, DIVERSITY_MEAN_INTER_LIST: 0.9721697, DIVERSITY_HERFINDAHL: 0.9971998, COVERAGE_ITEM: 0.1200385, COVERAGE_ITEM_CORRECT: 0.0172474, COVERAGE_USER: 0.7118409, COVERAGE_USER_CORRECT: 0.1014219, DIVERSITY_GINI: 0.0234254, SHANNON_ENTROPY: 9.4637247, \n",
      "\n",
      "Iteration No: 33 ended. Search finished for the next optimal point.\n",
      "Time taken: 282.7010\n",
      "Function value obtained: -0.0242\n",
      "Current minimum: -0.0249\n",
      "Iteration No: 34 started. Searching for the next optimal point.\n",
      "NMFRecommender: URM Detected 82 (1.03 %) cold users.\n",
      "NMFRecommender: URM Detected 2372 (9.13 %) cold items.\n",
      "SearchBayesianSkopt: Testing config: {'num_factors': 2, 'solver': 'multiplicative_update', 'init_type': 'nndsvda', 'beta_loss': 'frobenius'}\n",
      "NMFRecommender: Computing NMF decomposition...\n",
      "NMFRecommender: Computing NMF decomposition... Done!\n",
      "EvaluatorHoldout: Processed 5657 ( 100.00% ) in 5.20 sec. Users per second: 1087\n",
      "SearchBayesianSkopt: Config 33 is suboptimal. Config: {'num_factors': 2, 'solver': 'multiplicative_update', 'init_type': 'nndsvda', 'beta_loss': 'frobenius'} - results: ROC_AUC: 0.0234439, PRECISION: 0.0048966, PRECISION_RECALL_MIN_DEN: 0.0132999, RECALL: 0.0121058, MAP: 0.0045350, MRR: 0.0146108, NDCG: 0.0080642, F1: 0.0069728, HIT_RATE: 0.0489659, ARHR: 0.0158482, NOVELTY: 0.0039410, AVERAGE_POPULARITY: 0.3160568, DIVERSITY_MEAN_INTER_LIST: 0.1859082, DIVERSITY_HERFINDAHL: 0.9185875, COVERAGE_ITEM: 0.0024639, COVERAGE_ITEM_CORRECT: 0.0010010, COVERAGE_USER: 0.7118409, COVERAGE_USER_CORRECT: 0.0293192, DIVERSITY_GINI: 0.0005257, SHANNON_ENTROPY: 3.9126186, \n",
      "\n",
      "Iteration No: 34 ended. Search finished for the next optimal point.\n",
      "Time taken: 7.1503\n",
      "Function value obtained: -0.0045\n",
      "Current minimum: -0.0249\n",
      "Iteration No: 35 started. Searching for the next optimal point.\n",
      "NMFRecommender: URM Detected 82 (1.03 %) cold users.\n",
      "NMFRecommender: URM Detected 2372 (9.13 %) cold items.\n",
      "SearchBayesianSkopt: Testing config: {'num_factors': 2, 'solver': 'multiplicative_update', 'init_type': 'nndsvda', 'beta_loss': 'frobenius'}\n",
      "NMFRecommender: Computing NMF decomposition...\n",
      "NMFRecommender: Computing NMF decomposition... Done!\n"
     ]
    },
    {
     "name": "stderr",
     "output_type": "stream",
     "text": [
      "/home/infamouskz/anaconda3/lib/python3.8/site-packages/skopt/optimizer/optimizer.py:449: UserWarning: The objective has been evaluated at this point before.\n",
      "  warnings.warn(\"The objective has been evaluated \"\n"
     ]
    },
    {
     "name": "stdout",
     "output_type": "stream",
     "text": [
      "EvaluatorHoldout: Processed 5657 ( 100.00% ) in 5.17 sec. Users per second: 1094\n",
      "SearchBayesianSkopt: Config 34 is suboptimal. Config: {'num_factors': 2, 'solver': 'multiplicative_update', 'init_type': 'nndsvda', 'beta_loss': 'frobenius'} - results: ROC_AUC: 0.0234512, PRECISION: 0.0048966, PRECISION_RECALL_MIN_DEN: 0.0132999, RECALL: 0.0121058, MAP: 0.0045358, MRR: 0.0146108, NDCG: 0.0080646, F1: 0.0069728, HIT_RATE: 0.0489659, ARHR: 0.0158501, NOVELTY: 0.0039410, AVERAGE_POPULARITY: 0.3160575, DIVERSITY_MEAN_INTER_LIST: 0.1859316, DIVERSITY_HERFINDAHL: 0.9185899, COVERAGE_ITEM: 0.0024639, COVERAGE_ITEM_CORRECT: 0.0010010, COVERAGE_USER: 0.7118409, COVERAGE_USER_CORRECT: 0.0293192, DIVERSITY_GINI: 0.0005257, SHANNON_ENTROPY: 3.9126518, \n",
      "\n",
      "Iteration No: 35 ended. Search finished for the next optimal point.\n",
      "Time taken: 6.3244\n",
      "Function value obtained: -0.0045\n",
      "Current minimum: -0.0249\n",
      "SearchBayesianSkopt: Search complete. Best config is 0: {'num_factors': 258, 'solver': 'multiplicative_update', 'init_type': 'nndsvda', 'beta_loss': 'frobenius'}\n",
      "\n"
     ]
    }
   ],
   "source": [
    "evaluator_validation = EvaluatorHoldout(URM_valid, cutoff_list=[10])\n",
    "paramSearch(NMFRecommender, URM_train, metric_to_optimize=\"MAP\", evaluator_validation=evaluator_validation, evaluator_validation_earlystopping=evaluator_validation)"
   ]
  }
 ],
 "metadata": {
  "kernelspec": {
   "display_name": "Python 3",
   "language": "python",
   "name": "python3"
  },
  "language_info": {
   "codemirror_mode": {
    "name": "ipython",
    "version": 3
   },
   "file_extension": ".py",
   "mimetype": "text/x-python",
   "name": "python",
   "nbconvert_exporter": "python",
   "pygments_lexer": "ipython3",
   "version": "3.8.3"
  }
 },
 "nbformat": 4,
 "nbformat_minor": 4
}
