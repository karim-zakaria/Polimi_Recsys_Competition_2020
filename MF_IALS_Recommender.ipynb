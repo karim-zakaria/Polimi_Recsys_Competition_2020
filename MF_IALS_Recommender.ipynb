{
 "cells": [
  {
   "cell_type": "code",
   "execution_count": 1,
   "metadata": {},
   "outputs": [],
   "source": [
    "#import libraries\n",
    "\n",
    "import scipy.sparse as sps\n",
    "import numpy as np\n",
    "import os\n",
    "import pandas as pd \n",
    "\n",
    "URM_all= sps.load_npz(\"./Processed Matrices/URM_simple_coo_2020.npz\").tocsr()\n",
    "ICM_all= sps.load_npz(\"./Processed Matrices/ICM_simple_coo_2020.npz\").tocsr()"
   ]
  },
  {
   "cell_type": "code",
   "execution_count": 2,
   "metadata": {},
   "outputs": [],
   "source": [
    "%load_ext Cython"
   ]
  },
  {
   "cell_type": "code",
   "execution_count": 3,
   "metadata": {},
   "outputs": [],
   "source": [
    "from Notebooks_utils.evaluation_function import evaluate_algorithm\n",
    "from Base.Similarity.Compute_Similarity_Python import Compute_Similarity_Python\n",
    "from Base.Evaluation.Evaluator import EvaluatorHoldout\n",
    "from Data_manager.split_functions.split_train_validation_random_holdout import split_train_in_two_percentage_global_sample\n",
    "\n",
    "np.random.seed(41148)"
   ]
  },
  {
   "cell_type": "code",
   "execution_count": 4,
   "metadata": {},
   "outputs": [],
   "source": [
    "from MatrixFactorization.IALSRecommender import IALSRecommender"
   ]
  },
  {
   "cell_type": "code",
   "execution_count": 5,
   "metadata": {},
   "outputs": [
    {
     "name": "stdout",
     "output_type": "stream",
     "text": [
      "IALSRecommender: URM Detected 1079 (4.15 %) cold items.\n"
     ]
    }
   ],
   "source": [
    "recommender= IALSRecommender(URM_all)"
   ]
  },
  {
   "cell_type": "code",
   "execution_count": 6,
   "metadata": {},
   "outputs": [
    {
     "name": "stdout",
     "output_type": "stream",
     "text": [
      "IALSRecommender: Epoch 1 of 10. Elapsed time 28.81 sec\n",
      "IALSRecommender: Epoch 2 of 10. Elapsed time 1.00 min\n",
      "IALSRecommender: Epoch 3 of 10. Elapsed time 1.52 min\n",
      "IALSRecommender: Epoch 4 of 10. Elapsed time 2.12 min\n",
      "IALSRecommender: Epoch 5 of 10. Elapsed time 2.70 min\n",
      "IALSRecommender: Epoch 6 of 10. Elapsed time 3.26 min\n",
      "IALSRecommender: Epoch 7 of 10. Elapsed time 3.82 min\n",
      "IALSRecommender: Epoch 8 of 10. Elapsed time 4.37 min\n",
      "IALSRecommender: Epoch 9 of 10. Elapsed time 4.94 min\n",
      "IALSRecommender: Epoch 10 of 10. Elapsed time 5.53 min\n",
      "IALSRecommender: Terminating at epoch 10. Elapsed time 5.53 min\n"
     ]
    }
   ],
   "source": [
    "recommender.fit(alpha = 49.99999999999999, epochs=10, num_factors=200, confidence_scaling=\"linear\",epsilon=0.002936450234353087, reg=0.01)"
   ]
  },
  {
   "cell_type": "code",
   "execution_count": 7,
   "metadata": {},
   "outputs": [],
   "source": [
    "rec_df=pd.DataFrame({\"user_id\":[],\"item_list\":[]})\n",
    "target_user_list=list(pd.read_csv(\"./Data/2020/data_target_users_test.csv\").user_id)\n",
    "\n",
    "for uid in target_user_list:\n",
    "    rec_list=map(str,recommender.recommend(uid)[:10])\n",
    "    rec_df=rec_df.append({\"user_id\":uid,\"item_list\":' '.join(rec_list)},ignore_index=True)\n",
    "\n",
    "    \n",
    "rec_df=rec_df.astype({\"user_id\":'int32',\"item_list\":'str'})\n",
    "rec_df=rec_df.set_index('user_id')\n",
    "rec_df.to_csv(\"MF_IALS_recommendations.csv\")"
   ]
  }
 ],
 "metadata": {
  "kernelspec": {
   "display_name": "Python 3",
   "language": "python",
   "name": "python3"
  },
  "language_info": {
   "codemirror_mode": {
    "name": "ipython",
    "version": 3
   },
   "file_extension": ".py",
   "mimetype": "text/x-python",
   "name": "python",
   "nbconvert_exporter": "python",
   "pygments_lexer": "ipython3",
   "version": "3.8.3"
  }
 },
 "nbformat": 4,
 "nbformat_minor": 4
}
