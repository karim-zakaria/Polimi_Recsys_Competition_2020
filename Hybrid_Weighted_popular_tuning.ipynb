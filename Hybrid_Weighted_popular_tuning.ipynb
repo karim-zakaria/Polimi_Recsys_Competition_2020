{
 "cells": [
  {
   "cell_type": "code",
   "execution_count": 1,
   "metadata": {},
   "outputs": [],
   "source": [
    "#import libraries\n",
    "\n",
    "import scipy.sparse as sps\n",
    "import numpy as np\n",
    "import os\n",
    "import pandas as pd \n",
    "\n",
    "URM_all= sps.load_npz(\"./Processed Matrices/URM_simple_coo_2020.npz\").tocsr()\n",
    "ICM_all= sps.load_npz(\"./Processed Matrices/ICM_simple_coo_2020.npz\").tocsr()"
   ]
  },
  {
   "cell_type": "code",
   "execution_count": 2,
   "metadata": {},
   "outputs": [],
   "source": [
    "%load_ext Cython"
   ]
  },
  {
   "cell_type": "code",
   "execution_count": 3,
   "metadata": {},
   "outputs": [
    {
     "name": "stdout",
     "output_type": "stream",
     "text": [
      "Warning: 82 (1.03 %) of 7947 users have no train items\n",
      "Warning: 2290 (28.82 %) of 7947 users have no sampled items\n"
     ]
    }
   ],
   "source": [
    "from Notebooks_utils.evaluation_function import evaluate_algorithm\n",
    "from Base.Similarity.Compute_Similarity_Python import Compute_Similarity_Python\n",
    "from Base.Evaluation.Evaluator import EvaluatorHoldout\n",
    "from Data_manager.split_functions.split_train_validation_random_holdout import split_train_in_two_percentage_global_sample\n",
    "\n",
    "np.random.seed(41148)\n",
    "URM_train, URM_valid = split_train_in_two_percentage_global_sample(URM_all, train_percentage = 0.80)"
   ]
  },
  {
   "cell_type": "code",
   "execution_count": 4,
   "metadata": {},
   "outputs": [],
   "source": [
    "num_user_ratings=[URM_train[u].nnz for u in range(URM_train.shape[0])]"
   ]
  },
  {
   "cell_type": "code",
   "execution_count": 5,
   "metadata": {},
   "outputs": [],
   "source": [
    "threshold=10"
   ]
  },
  {
   "cell_type": "code",
   "execution_count": 6,
   "metadata": {},
   "outputs": [],
   "source": [
    "URM_train_pop=URM_train[[u for u in range(URM_train.shape[0]) if num_user_ratings[u]>=threshold]]\n",
    "URM_valid_pop=URM_valid[[u for u in range(URM_valid.shape[0]) if num_user_ratings[u]>=threshold]]\n",
    "URM_train_unpop=URM_train[[u for u in range(URM_train.shape[0]) if num_user_ratings[u]<threshold and num_user_ratings[u]!=0]]\n",
    "URM_valid_unpop=URM_valid[[u for u in range(URM_valid.shape[0]) if num_user_ratings[u]<threshold and num_user_ratings[u]!=0]]"
   ]
  },
  {
   "cell_type": "code",
   "execution_count": 7,
   "metadata": {},
   "outputs": [
    {
     "name": "stdout",
     "output_type": "stream",
     "text": [
      "RP3betaRecommender: URM Detected 5072 (19.53 %) cold items.\n"
     ]
    }
   ],
   "source": [
    "from GraphBased.RP3betaRecommender import RP3betaRecommender\n",
    "RP3brecommender= RP3betaRecommender(URM_train_pop)\n",
    "RP3brecommender.fit(topK=770, alpha=0.414615342821205, beta=0.17823717015919388, normalize_similarity=False)"
   ]
  },
  {
   "cell_type": "code",
   "execution_count": 8,
   "metadata": {},
   "outputs": [
    {
     "name": "stdout",
     "output_type": "stream",
     "text": [
      "ItemKNNCBFRecommender: URM Detected 5072 (19.53 %) cold items.\n",
      "Similarity column 25975 ( 100 % ), 3803.57 column/sec, elapsed time 0.11 min\n"
     ]
    }
   ],
   "source": [
    "from KNN.ItemKNNCBFRecommender import ItemKNNCBFRecommender\n",
    "ItemKNNrecommender=ItemKNNCBFRecommender(URM_train_pop, ICM_all)\n",
    "ItemKNNrecommender.fit(topK=393, shrink=6, similarity=\"dice\")"
   ]
  },
  {
   "cell_type": "code",
   "execution_count": 9,
   "metadata": {},
   "outputs": [
    {
     "name": "stdout",
     "output_type": "stream",
     "text": [
      "ItemKNNSimilarityHybridRecommender: URM Detected 5072 (19.53 %) cold items.\n"
     ]
    }
   ],
   "source": [
    "from KNN.ItemKNNSimilarityHybridRecommender import ItemKNNSimilarityHybridRecommender\n",
    "smallHybridrecommender= ItemKNNSimilarityHybridRecommender(URM_train_pop, RP3brecommender.W_sparse, ItemKNNrecommender.W_sparse)\n",
    "smallHybridrecommender.fit(topK=1100, alpha=0.5)"
   ]
  },
  {
   "cell_type": "code",
   "execution_count": 10,
   "metadata": {},
   "outputs": [
    {
     "name": "stdout",
     "output_type": "stream",
     "text": [
      "IALSRecommender: URM Detected 5072 (19.53 %) cold items.\n",
      "IALSRecommender: Epoch 1 of 10. Elapsed time 13.52 sec\n",
      "IALSRecommender: Epoch 2 of 10. Elapsed time 28.02 sec\n",
      "IALSRecommender: Epoch 3 of 10. Elapsed time 42.41 sec\n",
      "IALSRecommender: Epoch 4 of 10. Elapsed time 56.87 sec\n",
      "IALSRecommender: Epoch 5 of 10. Elapsed time 1.19 min\n",
      "IALSRecommender: Epoch 6 of 10. Elapsed time 1.43 min\n",
      "IALSRecommender: Epoch 7 of 10. Elapsed time 1.69 min\n",
      "IALSRecommender: Epoch 8 of 10. Elapsed time 1.94 min\n",
      "IALSRecommender: Epoch 9 of 10. Elapsed time 2.19 min\n",
      "IALSRecommender: Epoch 10 of 10. Elapsed time 2.43 min\n",
      "IALSRecommender: Terminating at epoch 10. Elapsed time 2.43 min\n"
     ]
    }
   ],
   "source": [
    "from MatrixFactorization.IALSRecommender import IALSRecommender\n",
    "IALSrecommender= IALSRecommender(URM_train_pop)\n",
    "IALSrecommender.fit(alpha = 49.99999999999999, epochs=10, num_factors=200, confidence_scaling=\"linear\",epsilon=0.002936450234353087, reg=0.01)"
   ]
  },
  {
   "cell_type": "code",
   "execution_count": 11,
   "metadata": {},
   "outputs": [
    {
     "name": "stdout",
     "output_type": "stream",
     "text": [
      "TopPopRecommender: URM Detected 5072 (19.53 %) cold items.\n"
     ]
    }
   ],
   "source": [
    "from Base.NonPersonalizedRecommender import TopPop\n",
    "TopPoprecommender= TopPop(URM_train_pop)\n",
    "TopPoprecommender.fit()"
   ]
  },
  {
   "cell_type": "code",
   "execution_count": 23,
   "metadata": {},
   "outputs": [],
   "source": [
    "def WeightGenerator(length,total_sum=100):\n",
    "    if length == 1:\n",
    "        yield (total_sum,)\n",
    "    else:\n",
    "        for value in range(0,total_sum + 1, 10):\n",
    "            for permutation in WeightGenerator(length - 1, total_sum - value):\n",
    "                yield (value,) + permutation"
   ]
  },
  {
   "cell_type": "code",
   "execution_count": 24,
   "metadata": {},
   "outputs": [],
   "source": [
    "popRec=[smallHybridrecommender,IALSrecommender,TopPoprecommender]\n",
    "unpopRec=[smallHybridrecommender,IALSrecommender,TopPoprecommender]"
   ]
  },
  {
   "cell_type": "code",
   "execution_count": 25,
   "metadata": {},
   "outputs": [
    {
     "name": "stdout",
     "output_type": "stream",
     "text": [
      "SimpleWeightedHybridRecommender: URM Detected 5072 (19.53 %) cold items.\n",
      "EvaluatorHoldout: Processed 1961 ( 100.00% ) in 2.67 sec. Users per second: 734\n",
      "(0, 0, 100) 0.010100053445179233\n",
      "EvaluatorHoldout: Processed 1961 ( 100.00% ) in 2.76 sec. Users per second: 710\n",
      "(0, 10, 90) 0.01011589829143738\n",
      "EvaluatorHoldout: Processed 1961 ( 100.00% ) in 2.84 sec. Users per second: 690\n",
      "(0, 20, 80) 0.01011589829143738\n",
      "EvaluatorHoldout: Processed 1961 ( 100.00% ) in 2.89 sec. Users per second: 678\n",
      "(0, 30, 70) 0.01011589829143738\n",
      "EvaluatorHoldout: Processed 1961 ( 100.00% ) in 2.83 sec. Users per second: 693\n",
      "(0, 40, 60) 0.01011589829143738\n",
      "EvaluatorHoldout: Processed 1961 ( 100.00% ) in 2.81 sec. Users per second: 698\n",
      "(0, 50, 50) 0.0101252472630505\n",
      "EvaluatorHoldout: Processed 1961 ( 100.00% ) in 2.68 sec. Users per second: 732\n",
      "(0, 60, 40) 0.010140862608854526\n",
      "EvaluatorHoldout: Processed 1961 ( 100.00% ) in 2.75 sec. Users per second: 713\n",
      "(0, 70, 30) 0.01023439785569166\n",
      "EvaluatorHoldout: Processed 1961 ( 100.00% ) in 2.73 sec. Users per second: 717\n",
      "(0, 80, 20) 0.010283469838725906\n",
      "EvaluatorHoldout: Processed 1961 ( 100.00% ) in 3.56 sec. Users per second: 551\n",
      "(0, 90, 10) 0.010603050827107439\n",
      "EvaluatorHoldout: Processed 1961 ( 100.00% ) in 2.74 sec. Users per second: 716\n",
      "(0, 100, 0) 0.05240616330295119\n",
      "EvaluatorHoldout: Processed 1961 ( 100.00% ) in 3.50 sec. Users per second: 561\n",
      "(10, 0, 90) 0.01011679260443861\n",
      "EvaluatorHoldout: Processed 1961 ( 100.00% ) in 3.40 sec. Users per second: 577\n",
      "(10, 10, 80) 0.010114840967266846\n",
      "EvaluatorHoldout: Processed 1961 ( 100.00% ) in 2.66 sec. Users per second: 736\n",
      "(10, 20, 70) 0.010116464895777569\n",
      "EvaluatorHoldout: Processed 1961 ( 100.00% ) in 2.75 sec. Users per second: 714\n",
      "(10, 30, 60) 0.010123871223938614\n",
      "EvaluatorHoldout: Processed 1961 ( 100.00% ) in 2.71 sec. Users per second: 723\n",
      "(10, 40, 50) 0.01013965520198674\n",
      "EvaluatorHoldout: Processed 1961 ( 100.00% ) in 2.67 sec. Users per second: 736\n",
      "(10, 50, 40) 0.01016279395490986\n",
      "EvaluatorHoldout: Processed 1961 ( 100.00% ) in 3.39 sec. Users per second: 578\n",
      "(10, 60, 30) 0.010244669968389648\n",
      "EvaluatorHoldout: Processed 1961 ( 100.00% ) in 2.69 sec. Users per second: 729\n",
      "(10, 70, 20) 0.010368527942651935\n",
      "EvaluatorHoldout: Processed 1961 ( 100.00% ) in 3.39 sec. Users per second: 578\n",
      "(10, 80, 10) 0.01070699381514746\n",
      "EvaluatorHoldout: Processed 1961 ( 100.00% ) in 3.40 sec. Users per second: 577\n",
      "(10, 90, 0) 0.057132585431664475\n",
      "EvaluatorHoldout: Processed 1961 ( 100.00% ) in 2.73 sec. Users per second: 718\n",
      "(20, 0, 80) 0.010124563178246919\n",
      "EvaluatorHoldout: Processed 1961 ( 100.00% ) in 2.62 sec. Users per second: 749\n",
      "(20, 10, 70) 0.010132183107250494\n",
      "EvaluatorHoldout: Processed 1961 ( 100.00% ) in 2.63 sec. Users per second: 745\n",
      "(20, 20, 60) 0.01014875628420103\n",
      "EvaluatorHoldout: Processed 1961 ( 100.00% ) in 2.67 sec. Users per second: 735\n",
      "(20, 30, 50) 0.010175725639000575\n",
      "EvaluatorHoldout: Processed 1961 ( 100.00% ) in 2.66 sec. Users per second: 736\n",
      "(20, 40, 40) 0.010178281140208363\n",
      "EvaluatorHoldout: Processed 1961 ( 100.00% ) in 2.72 sec. Users per second: 720\n",
      "(20, 50, 30) 0.01029710616469377\n",
      "EvaluatorHoldout: Processed 1961 ( 100.00% ) in 2.63 sec. Users per second: 744\n",
      "(20, 60, 20) 0.010385323714164688\n",
      "EvaluatorHoldout: Processed 1961 ( 100.00% ) in 2.67 sec. Users per second: 733\n",
      "(20, 70, 10) 0.010787844785486304\n",
      "EvaluatorHoldout: Processed 1961 ( 100.00% ) in 2.63 sec. Users per second: 745\n",
      "(20, 80, 0) 0.06030724353219857\n",
      "EvaluatorHoldout: Processed 1961 ( 100.00% ) in 2.73 sec. Users per second: 718\n",
      "(30, 0, 70) 0.010146458388821375\n",
      "EvaluatorHoldout: Processed 1961 ( 100.00% ) in 2.72 sec. Users per second: 721\n",
      "(30, 10, 60) 0.010164651559530268\n",
      "EvaluatorHoldout: Processed 1961 ( 100.00% ) in 3.34 sec. Users per second: 588\n",
      "(30, 20, 50) 0.010194464776675023\n",
      "EvaluatorHoldout: Processed 1961 ( 100.00% ) in 2.66 sec. Users per second: 739\n",
      "(30, 30, 40) 0.010233520004409496\n",
      "EvaluatorHoldout: Processed 1961 ( 100.00% ) in 3.45 sec. Users per second: 569\n",
      "(30, 40, 30) 0.010336095625853043\n",
      "EvaluatorHoldout: Processed 1961 ( 100.00% ) in 2.70 sec. Users per second: 727\n",
      "(30, 50, 20) 0.010479020125246546\n",
      "EvaluatorHoldout: Processed 1961 ( 100.00% ) in 2.68 sec. Users per second: 731\n",
      "(30, 60, 10) 0.010947101076818067\n",
      "EvaluatorHoldout: Processed 1961 ( 100.00% ) in 2.62 sec. Users per second: 749\n",
      "(30, 70, 0) 0.0628581744849713\n",
      "EvaluatorHoldout: Processed 1961 ( 100.00% ) in 2.68 sec. Users per second: 732\n",
      "(40, 0, 60) 0.010175662120855297\n",
      "EvaluatorHoldout: Processed 1961 ( 100.00% ) in 2.74 sec. Users per second: 716\n",
      "(40, 10, 50) 0.010216690506447922\n",
      "EvaluatorHoldout: Processed 1961 ( 100.00% ) in 2.68 sec. Users per second: 731\n",
      "(40, 20, 40) 0.010241250106479222\n",
      "EvaluatorHoldout: Processed 1961 ( 100.00% ) in 2.68 sec. Users per second: 731\n",
      "(40, 30, 30) 0.01039384879681376\n",
      "EvaluatorHoldout: Processed 1961 ( 100.00% ) in 2.70 sec. Users per second: 728\n",
      "(40, 40, 20) 0.01052192522711391\n",
      "EvaluatorHoldout: Processed 1961 ( 100.00% ) in 2.69 sec. Users per second: 729\n",
      "(40, 50, 10) 0.011059491094868458\n",
      "EvaluatorHoldout: Processed 1961 ( 100.00% ) in 2.62 sec. Users per second: 747\n",
      "(40, 60, 0) 0.06449959449566355\n",
      "EvaluatorHoldout: Processed 1961 ( 100.00% ) in 2.69 sec. Users per second: 730\n",
      "(50, 0, 50) 0.010238466550236547\n",
      "EvaluatorHoldout: Processed 1961 ( 100.00% ) in 2.78 sec. Users per second: 707\n",
      "(50, 10, 40) 0.010301337147698335\n",
      "EvaluatorHoldout: Processed 1961 ( 100.00% ) in 2.68 sec. Users per second: 732\n",
      "(50, 20, 30) 0.010463891885724776\n",
      "EvaluatorHoldout: Processed 1961 ( 100.00% ) in 2.71 sec. Users per second: 724\n",
      "(50, 30, 20) 0.010655583143790696\n",
      "EvaluatorHoldout: Processed 1961 ( 100.00% ) in 2.68 sec. Users per second: 733\n",
      "(50, 40, 10) 0.011224084596726113\n",
      "EvaluatorHoldout: Processed 1961 ( 100.00% ) in 2.63 sec. Users per second: 745\n",
      "(50, 50, 0) 0.06616721537992865\n",
      "EvaluatorHoldout: Processed 1961 ( 100.00% ) in 3.41 sec. Users per second: 576\n",
      "(60, 0, 40) 0.010373257675593708\n",
      "EvaluatorHoldout: Processed 1961 ( 100.00% ) in 2.73 sec. Users per second: 717\n",
      "(60, 10, 30) 0.010465267924836659\n",
      "EvaluatorHoldout: Processed 1961 ( 100.00% ) in 2.71 sec. Users per second: 724\n",
      "(60, 20, 20) 0.010722420292838089\n",
      "EvaluatorHoldout: Processed 1961 ( 100.00% ) in 2.68 sec. Users per second: 733\n",
      "(60, 30, 10) 0.011335746123481979\n",
      "EvaluatorHoldout: Processed 1961 ( 100.00% ) in 2.62 sec. Users per second: 748\n",
      "(60, 40, 0) 0.06722659188517217\n",
      "EvaluatorHoldout: Processed 1961 ( 100.00% ) in 2.64 sec. Users per second: 741\n",
      "(70, 0, 30) 0.01054141196773722\n",
      "EvaluatorHoldout: Processed 1961 ( 100.00% ) in 2.65 sec. Users per second: 741\n",
      "(70, 10, 20) 0.010766239622371703\n",
      "EvaluatorHoldout: Processed 1961 ( 100.00% ) in 2.69 sec. Users per second: 729\n",
      "(70, 20, 10) 0.011466071064004584\n",
      "EvaluatorHoldout: Processed 1961 ( 100.00% ) in 2.58 sec. Users per second: 759\n",
      "(70, 30, 0) 0.06745738350017311\n",
      "EvaluatorHoldout: Processed 1961 ( 100.00% ) in 2.65 sec. Users per second: 739\n",
      "(80, 0, 20) 0.010847772188181\n",
      "EvaluatorHoldout: Processed 1961 ( 100.00% ) in 2.62 sec. Users per second: 748\n",
      "(80, 10, 10) 0.011629123829258606\n",
      "EvaluatorHoldout: Processed 1961 ( 100.00% ) in 2.60 sec. Users per second: 753\n",
      "(80, 20, 0) 0.06627586184246104\n",
      "EvaluatorHoldout: Processed 1961 ( 100.00% ) in 2.69 sec. Users per second: 729\n",
      "(90, 0, 10) 0.011851478933689178\n",
      "EvaluatorHoldout: Processed 1961 ( 100.00% ) in 2.64 sec. Users per second: 742\n",
      "(90, 10, 0) 0.06649472971238461\n",
      "EvaluatorHoldout: Processed 1961 ( 100.00% ) in 2.53 sec. Users per second: 774\n",
      "(100, 0, 0) 0.06693300692233754\n"
     ]
    }
   ],
   "source": [
    "from KNN.SimpleWeightedHybridRecommender import SimpleWeightedHybridRecommender\n",
    "\n",
    "recommender=SimpleWeightedHybridRecommender(URM_train_pop, popRec)\n",
    "evaluator_validation = EvaluatorHoldout(URM_valid_pop, cutoff_list=[10])\n",
    "resultDF= pd.DataFrame({\"weights\":[],\"MAP\":[]})\n",
    "\n",
    "for weights in list(WeightGenerator(len(popRec))):\n",
    "        recommender.fit(np.array(weights)/100)\n",
    "        MAP,_=evaluator_validation.evaluateRecommender(recommender)\n",
    "        MAP=MAP[10][\"MAP\"]\n",
    "        resultDF=resultDF.append({\"weights\":[weights],\"MAP\":[MAP]},ignore_index=True)\n",
    "        print(weights, MAP)"
   ]
  },
  {
   "cell_type": "code",
   "execution_count": 26,
   "metadata": {},
   "outputs": [],
   "source": [
    "resultDF_sorted=resultDF.sort_values(by=['MAP'],ascending=False)\n",
    "resultDF_sorted.to_csv(\"Weighted_Hybrid_popular_results_sorted.csv\")"
   ]
  }
 ],
 "metadata": {
  "kernelspec": {
   "display_name": "Python 3",
   "language": "python",
   "name": "python3"
  },
  "language_info": {
   "codemirror_mode": {
    "name": "ipython",
    "version": 3
   },
   "file_extension": ".py",
   "mimetype": "text/x-python",
   "name": "python",
   "nbconvert_exporter": "python",
   "pygments_lexer": "ipython3",
   "version": "3.8.3"
  }
 },
 "nbformat": 4,
 "nbformat_minor": 4
}
