{
 "cells": [
  {
   "cell_type": "markdown",
   "metadata": {},
   "source": [
    "# EASE R"
   ]
  },
  {
   "cell_type": "code",
   "execution_count": 1,
   "metadata": {},
   "outputs": [],
   "source": [
    "#import libraries\n",
    "\n",
    "import scipy.sparse as sps\n",
    "import numpy as np\n",
    "import os\n",
    "import pandas as pd \n",
    "\n",
    "URM_all= sps.load_npz(\"./Processed Matrices/URM_simple_coo_2020.npz\").tocsr()\n",
    "ICM_all= sps.load_npz(\"./Processed Matrices/ICM_simple_coo_2020.npz\").tocsr()\n",
    "np.random.seed(41148)"
   ]
  },
  {
   "cell_type": "code",
   "execution_count": 2,
   "metadata": {},
   "outputs": [],
   "source": [
    "%load_ext Cython"
   ]
  },
  {
   "cell_type": "code",
   "execution_count": 3,
   "metadata": {},
   "outputs": [
    {
     "name": "stdout",
     "output_type": "stream",
     "text": [
      "Warning: 82 (1.03 %) of 7947 users have no train items\n",
      "Warning: 2290 (28.82 %) of 7947 users have no sampled items\n"
     ]
    }
   ],
   "source": [
    "from Notebooks_utils.evaluation_function import evaluate_algorithm\n",
    "from Base.Similarity.Compute_Similarity_Python import Compute_Similarity_Python\n",
    "from Base.Evaluation.Evaluator import EvaluatorHoldout\n",
    "from Data_manager.split_functions.split_train_validation_random_holdout import split_train_in_two_percentage_global_sample\n",
    "\n",
    "URM_train, URM_valid = split_train_in_two_percentage_global_sample(URM_all, train_percentage = 0.80)"
   ]
  },
  {
   "cell_type": "code",
   "execution_count": 4,
   "metadata": {},
   "outputs": [],
   "source": [
    "from EASE_R.EASE_R_Recommender import EASE_R_Recommender"
   ]
  },
  {
   "cell_type": "code",
   "execution_count": 5,
   "metadata": {},
   "outputs": [],
   "source": [
    "from ParameterTuning.run_parameter_search import runParameterSearch_Collaborative as paramSearch"
   ]
  },
  {
   "cell_type": "code",
   "execution_count": null,
   "metadata": {},
   "outputs": [
    {
     "name": "stdout",
     "output_type": "stream",
     "text": [
      "Iteration No: 1 started. Evaluating function at random point.\n",
      "EASE_R_Recommender: URM Detected 82 (1.03 %) cold users.\n",
      "EASE_R_Recommender: URM Detected 2372 (9.13 %) cold items.\n",
      "SearchBayesianSkopt: Testing config: {'topK': None, 'normalize_matrix': False, 'l2_norm': 158.85084403758196}\n",
      "EASE_R_Recommender: Fitting model... \n",
      "Similarity column 25975 ( 100 % ), 5767.57 column/sec, elapsed time 0.08 min\n"
     ]
    }
   ],
   "source": [
    "evaluator_validation = EvaluatorHoldout(URM_valid, cutoff_list=[10])\n",
    "paramSearch(EASE_R_Recommender, URM_train, metric_to_optimize=\"MAP\", evaluator_validation=evaluator_validation, evaluator_validation_earlystopping=evaluator_validation)"
   ]
  }
 ],
 "metadata": {
  "kernelspec": {
   "display_name": "Python 3",
   "language": "python",
   "name": "python3"
  },
  "language_info": {
   "codemirror_mode": {
    "name": "ipython",
    "version": 3
   },
   "file_extension": ".py",
   "mimetype": "text/x-python",
   "name": "python",
   "nbconvert_exporter": "python",
   "pygments_lexer": "ipython3",
   "version": "3.8.3"
  }
 },
 "nbformat": 4,
 "nbformat_minor": 4
}
